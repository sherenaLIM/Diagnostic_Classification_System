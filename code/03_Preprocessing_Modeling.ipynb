{
 "cells": [
  {
   "attachments": {},
   "cell_type": "markdown",
   "id": "b2fdcf1e-d894-44de-bd7e-d3ab719507ab",
   "metadata": {},
   "source": [
    "## Project 3: Diagnostic Classification System\n",
    "- 03 Preprocessing and Modeling"
   ]
  },
  {
   "cell_type": "markdown",
   "id": "dab2dbbe-e016-4700-b64d-82f096e0730e",
   "metadata": {},
   "source": [
    "#### Content\n",
    "> * [Background](#Background)\n",
    "> * [Problem Statement](#Problem-Statement) \n",
    "> * [Web Scraping and Data Cleaning](#Web-Scraping-And-Data-Cleaning)\n",
    "> * [Exploratory Data Analysis](#Exploratory-Data-Analysis)\n",
    "> * [Preprocessing and Modeling](#Preprocessing-And-Modeling)\n",
    "> * [Baseline Model Performance Evaluation](#Baseline-Model-Performance-Evaluation)\n",
    "> * [Evaluation and Conceptual Understanding](#Evaluation-And-Understanding)\n",
    "> * [Conclusion and Recommendations](#Conclusion-And-Recommendations)"
   ]
  },
  {
   "cell_type": "markdown",
   "id": "bd27e893-c83d-4e36-82c4-a9ea358e0a43",
   "metadata": {},
   "source": [
    "---\n",
    "<a id='Background'></a>\n",
    "### Background"
   ]
  },
  {
   "cell_type": "markdown",
   "id": "6069be92-1c7e-43fe-9c4d-063585819f75",
   "metadata": {},
   "source": [
    "Research has shown that gifted children can exhibit some of the same behaviours as those on the autism spectrum. Social quirkiness is normal in bright kids as well as in those with autism. Like kids on the spectrum, gifted kids also have keen memories and a good grip on language. They can also get lost in their imaginations or think logically and critically to the extent that imagination seems far away. Both groups can also find it difficult to manage social interactions with their peers. \n",
    "\n",
    "At the same time, these are broad generalisations of behaviours. Once you dive deeper, you can see there are some salient differences. For example, a gifted child may present an extensive and advanced vocabulary with a rich verbal style. A child on the autism spectrum may have an advanced use of vocabulary, but they may not have full comprehension of the language they use. They may also have a less inviting verbal style that lacks the engagement of others. By extension, these differences can cause students with aspergers to have learning styles and needs that deviate from those of gifted students. \n",
    "\n",
    "Studies have shown that it may be possible to distinguish children on the autism spectrum from gifted children by examining their use of language. This forms the basis of Project 3. This project will address convergent and divergent aspects in communication & language between individuals with aspergers and gifted individuals."
   ]
  },
  {
   "attachments": {},
   "cell_type": "markdown",
   "id": "04c02e8a-c3ce-4421-8afb-33b34afd8e27",
   "metadata": {},
   "source": [
    "Citations: \n",
    "- Tai, J., & Goy, P. (2021). Study: 1 in 150 Children in Singapore Has Autism. The Straits Times.\n",
    "- Chen, L., Abrams, D. A., Rosenberg-Lee, M., Iuculano, T., Wakeman, H. N., Prathap, S., Chen, T., & Menon, V. (2019). Quantitative analysis of heterogeneity in academic achievement of children with autism. Clinical psychological science : a journal of the Association for Psychological Science, 7(2), 362–380. \n",
    "- Lim, P. (2018). \"Specific Language Impairment in Children with High-Functioning Autism Spectrum Disorder.\" Inquiries Journal, 10(05).\n",
    "- Aggarwal, R., Ringold, S., Khanna, D., Neogi, T., Johnson, S. R., Miller, A., Brunner, H. I., Ogawa, R., Felson, D., Ogdie, A., Aletaha, D., & Feldman, B. M. (2015). Distinctions between diagnostic and classification criteria?. Arthritis care & research, 67(7), 891–897. \n",
    "- Minshew, N. J., Goldstein, G., & Siegel, D. J. (1995). Speech and language in high-functioning autistic individuals. Neuropsychology, 9(2), 255–261."
   ]
  },
  {
   "cell_type": "markdown",
   "id": "503018e5-59a0-4286-ab43-0fae4d0fec1f",
   "metadata": {},
   "source": [
    "---\n",
    "<a id='Problem-Statement'></a>\n",
    "### Problem Statement"
   ]
  },
  {
   "cell_type": "markdown",
   "id": "86cf8e11-535a-4829-9c63-4e548579e7ff",
   "metadata": {},
   "source": [
    "Context: The provision of healthcare in Singapore has become more challenging due to a couple of reasons.\n",
    "1. Shifts in the nature of diseases highlights the system’s shortfall in managing complex chronic diseases\n",
    "2. Evolution of healthcare consumer expectations\n",
    "3. Manpower shortage in public hospitals to service the burgeoning aged population\n",
    "4. Poor design of systems and operational inefficiencies lead to significant waste in Healthcare\n",
    "\n",
    "Healthcare waste is incurred any time a patient, doctor, or healthcare worker engages in unnecessary medical activity - ranging from preventable mistakes in medical care, to misdiagnoses, provision of unnecessary treatments, and procedural inconsistencies. Research has shown that up to 20% of all healthcare resource expenditures are quality-associated waste and this can amount to a staggering sum. \n",
    "\n",
    "In Singapore, part of the costs (and risks) are borne by individuals and families, while part of the costs (and risks) are accounted for by the State - borne by taxpayers, and/or private health insurers. To eliminate waste, the Singapore government has come to incorporate technology into various care models to overcome the various cost- and quality-based challenges in the Healthcare sector. Most of these technologies are procured from private healthtech companies and start-ups. "
   ]
  },
  {
   "cell_type": "markdown",
   "id": "5eac2f49-a046-4bf8-89d4-0d40ecd38968",
   "metadata": {
    "tags": []
   },
   "source": [
    "Citations: \n",
    "- Ooi, Low & Koh, Gerald & Tan, Lawrence & Yap, Jason & Chew, Samuel & Jih, Chin & Fung, Daniel & Sing, Lee & Lee, Patricia & Boon, Lim & Lim, Ruth & Low, James & Sachdev, Ravinder & Seah, Daren & Yeng, Siaw & Chiu, Tan & Teo, David & Tiwari, Satyaprakash & Tym, Wong & Scott, Richard. (2015). National Telemedicine Guidelines of Singapore.\n",
    "- Nakhooda, F. (2021). The Bottom Line (Healthcare): Cutting Healthcare Waste: A Win-Win for Providers, Payers, Patients. The Business Times, Opinion & Features. \n",
    "- Khalik, S. (2018). Experts Highlight Prevalence and Cost of Waste in Healthcare Expenditure. The Straits Times. "
   ]
  },
  {
   "cell_type": "markdown",
   "id": "c724a540-56ad-4a3b-8ad6-962db71bbd63",
   "metadata": {
    "tags": []
   },
   "source": [
    "---\n",
    "### Task\n",
    "- What other diagnostic criteria can we extract using NLP-models to diagnose autistic and gifted children accurately?"
   ]
  },
  {
   "cell_type": "markdown",
   "id": "0f911a05-4c8f-41c2-ae2a-c2d3139f0132",
   "metadata": {},
   "source": [
    "You work in the Research and Development (R&D) of a healthtech startup in Singapore. The company has been enlisted by the Ministry of Health Holdings (MOHH) to create a simple diagnostic tool to rule out specific conditions and dieseases. After the development of a differential diagnosis, this tool will be a core feature in the series of additional tests that will conducted by healthcare professionals to rule out either autism or giftedness. Healthcare professionals will be able to come to a final diagnosis that is more accurate/precise, reducing the likelihood of misdiagnosis produced by the exisiting slew of subjective tests."
   ]
  },
  {
   "cell_type": "markdown",
   "id": "10faa6ec-e963-4482-8fd6-7e72f020cede",
   "metadata": {},
   "source": [
    "---\n",
    "<a id='Preprocessing-And-Modeling'></a>\n",
    "### Preprocessing and Modeling"
   ]
  },
  {
   "cell_type": "markdown",
   "id": "09ad2367-8e20-49ea-b44c-707b9b40d8ee",
   "metadata": {},
   "source": [
    "When dealing with text data, there are common pre-processing steps.\n",
    "1. Remove capitalisation \n",
    "2. Remove special / non-roman characters \n",
    "3. Remove newlines \n",
    "4. Remove punctuation \n",
    "5. Lemmatizing/Stemming \n",
    "6. Tokenizing \n",
    "7. Stop word removal i.e., standard stopwords, additional list stopwords derived from EDA/cvec that you would like to remove\n",
    "8. Add text_features of importance i.e., bigrams, trigrams \n",
    "\n",
    "Note: Additional pre-processing steps such as removing links, username, numbers, double spacing etc. can be performed if time permits."
   ]
  },
  {
   "cell_type": "markdown",
   "id": "8e489ea6-f0c6-4c18-b847-b3b7697093c5",
   "metadata": {},
   "source": [
    "Load Packages."
   ]
  },
  {
   "cell_type": "code",
   "execution_count": 1,
   "id": "baa739ff-f51e-4dbb-bffc-f273c35d0f7c",
   "metadata": {},
   "outputs": [],
   "source": [
    "import pandas as pd\n",
    "from pandas import DataFrame\n",
    "import numpy as np\n",
    "import seaborn as sns\n",
    "import matplotlib.pyplot as plt\n",
    "from sklearn.feature_extraction.text import CountVectorizer, TfidfVectorizer\n",
    "from sklearn.pipeline import Pipeline\n",
    "from sklearn.model_selection import train_test_split, GridSearchCV\n",
    "from sklearn.linear_model import LogisticRegression\n",
    "from nltk.corpus import stopwords\n",
    "from collections import Counter"
   ]
  },
  {
   "cell_type": "code",
   "execution_count": 2,
   "id": "ec6e766c-0acc-4371-a9b3-b1623781d9e1",
   "metadata": {},
   "outputs": [],
   "source": [
    "pd.set_option('display.max_rows', None)\n",
    "pd.set_option('display.max_columns', None)\n",
    "pd.set_option('display.max_colwidth', None)"
   ]
  },
  {
   "cell_type": "markdown",
   "id": "52418c6d-52cd-4302-a017-e8fbb6876031",
   "metadata": {},
   "source": [
    "Import Data."
   ]
  },
  {
   "cell_type": "code",
   "execution_count": 3,
   "id": "a0e26d1a-c935-4b5d-9824-e1111485d9fc",
   "metadata": {},
   "outputs": [],
   "source": [
    "# import df\n",
    "df = pd.read_csv('../data/df.csv', low_memory=False)"
   ]
  },
  {
   "cell_type": "markdown",
   "id": "fa24c2ae-b918-4061-a32c-9b24bfbc4d16",
   "metadata": {
    "tags": []
   },
   "source": [
    "1. Engineer a feature 'diagnosis' into a 1/0 column, where 1 indicates Asperger's and 0 indicates Giftedness."
   ]
  },
  {
   "cell_type": "code",
   "execution_count": 4,
   "id": "44040110-f009-46e0-a719-cc350733f6e2",
   "metadata": {},
   "outputs": [
    {
     "data": {
      "text/plain": [
       "1915"
      ]
     },
     "execution_count": 4,
     "metadata": {},
     "output_type": "execute_result"
    }
   ],
   "source": [
    "len(df)"
   ]
  },
  {
   "cell_type": "code",
   "execution_count": 5,
   "id": "c1f24c2f-76f7-4dae-9909-0bc23d600118",
   "metadata": {},
   "outputs": [
    {
     "data": {
      "text/plain": [
       "Index(['text_feature', 'diagnosis'], dtype='object')"
      ]
     },
     "execution_count": 5,
     "metadata": {},
     "output_type": "execute_result"
    }
   ],
   "source": [
    "df.columns"
   ]
  },
  {
   "cell_type": "code",
   "execution_count": 6,
   "id": "f26e114f-866c-4c69-a4fb-bb398b33b7e8",
   "metadata": {
    "tags": []
   },
   "outputs": [],
   "source": [
    "# remove capitalisation\n",
    "# remove punctuation\n",
    "# remove non-roman characters\n",
    "# remove new lines \n",
    "import re\n",
    "import string\n",
    "def clean_text(text):\n",
    "    # convert text to lowercase\n",
    "    text = text.lower()\n",
    "    # remove punctuation\n",
    "    text = re.sub(\"[%s]\" % re.escape(string.punctuation), \"\", text)\n",
    "    # remove non-Roman characters\n",
    "    text = re.sub(\"([^\\x00-\\x7F])+\", \" \", text)\n",
    "    # remove new lines from the text\n",
    "    text = text.replace('\\n', '')\n",
    "    \n",
    "    return text\n",
    "df[\"text_clean\"] = df[\"text_feature\"].map(lambda x: clean_text(x))"
   ]
  },
  {
   "cell_type": "markdown",
   "id": "7208a316-2e9a-4f37-8564-b7d32a575767",
   "metadata": {},
   "source": [
    "Stopword removal. Add stopwords derived from EDA. "
   ]
  },
  {
   "cell_type": "code",
   "execution_count": 7,
   "id": "7be32d4c-3292-4fbf-8f42-9171b6375b73",
   "metadata": {},
   "outputs": [
    {
     "name": "stdout",
     "output_type": "stream",
     "text": [
      "['i', 'me', 'my', 'myself', 'we', 'our', 'ours', 'ourselves', 'you', \"you're\", \"you've\", \"you'll\", \"you'd\", 'your', 'yours', 'yourself', 'yourselves', 'he', 'him', 'his', 'himself', 'she', \"she's\", 'her', 'hers', 'herself', 'it', \"it's\", 'its', 'itself', 'they', 'them', 'their', 'theirs', 'themselves', 'what', 'which', 'who', 'whom', 'this', 'that', \"that'll\", 'these', 'those', 'am', 'is', 'are', 'was', 'were', 'be', 'been', 'being', 'have', 'has', 'had', 'having', 'do', 'does', 'did', 'doing', 'a', 'an', 'the', 'and', 'but', 'if', 'or', 'because', 'as', 'until', 'while', 'of', 'at', 'by', 'for', 'with', 'about', 'against', 'between', 'into', 'through', 'during', 'before', 'after', 'above', 'below', 'to', 'from', 'up', 'down', 'in', 'out', 'on', 'off', 'over', 'under', 'again', 'further', 'then', 'once', 'here', 'there', 'when', 'where', 'why', 'how', 'all', 'any', 'both', 'each', 'few', 'more', 'most', 'other', 'some', 'such', 'no', 'nor', 'not', 'only', 'own', 'same', 'so', 'than', 'too', 'very', 's', 't', 'can', 'will', 'just', 'don', \"don't\", 'should', \"should've\", 'now', 'd', 'll', 'm', 'o', 're', 've', 'y', 'ain', 'aren', \"aren't\", 'couldn', \"couldn't\", 'didn', \"didn't\", 'doesn', \"doesn't\", 'hadn', \"hadn't\", 'hasn', \"hasn't\", 'haven', \"haven't\", 'isn', \"isn't\", 'ma', 'mightn', \"mightn't\", 'mustn', \"mustn't\", 'needn', \"needn't\", 'shan', \"shan't\", 'shouldn', \"shouldn't\", 'wasn', \"wasn't\", 'weren', \"weren't\", 'won', \"won't\", 'wouldn', \"wouldn't\"]\n"
     ]
    }
   ],
   "source": [
    "# print English stopwords that have been filtered out previously. \n",
    "print(stopwords.words(\"english\"))"
   ]
  },
  {
   "cell_type": "code",
   "execution_count": 8,
   "id": "900e220b-858f-40da-89ea-1c7f2b2d702b",
   "metadata": {},
   "outputs": [],
   "source": [
    "# call up list of stopwords\n",
    "stop_words = set(stopwords.words(\"english\"))"
   ]
  },
  {
   "cell_type": "code",
   "execution_count": 9,
   "id": "7517ee4e-e836-4cf8-82f2-7b459615bbae",
   "metadata": {},
   "outputs": [],
   "source": [
    "# create a new column name corpus\n",
    "df['no_stop_words'] = ' '"
   ]
  },
  {
   "cell_type": "code",
   "execution_count": 10,
   "id": "cbe41536-519d-4633-a029-3a556eb89766",
   "metadata": {},
   "outputs": [],
   "source": [
    "# Exclude stopwords with Python's list comprehension and pandas.DataFrame.apply.\n",
    "df['no_stop_words'] = df['text_clean'].apply(lambda x: [word for word in x.split() if word not in (stop_words)])"
   ]
  },
  {
   "cell_type": "code",
   "execution_count": 11,
   "id": "210beac5-d9ec-4301-82d7-7d04eba2de54",
   "metadata": {
    "scrolled": true,
    "tags": []
   },
   "outputs": [
    {
     "data": {
      "text/html": [
       "<div>\n",
       "<style scoped>\n",
       "    .dataframe tbody tr th:only-of-type {\n",
       "        vertical-align: middle;\n",
       "    }\n",
       "\n",
       "    .dataframe tbody tr th {\n",
       "        vertical-align: top;\n",
       "    }\n",
       "\n",
       "    .dataframe thead th {\n",
       "        text-align: right;\n",
       "    }\n",
       "</style>\n",
       "<table border=\"1\" class=\"dataframe\">\n",
       "  <thead>\n",
       "    <tr style=\"text-align: right;\">\n",
       "      <th></th>\n",
       "      <th>text_feature</th>\n",
       "      <th>diagnosis</th>\n",
       "      <th>text_clean</th>\n",
       "      <th>no_stop_words</th>\n",
       "    </tr>\n",
       "  </thead>\n",
       "  <tbody>\n",
       "    <tr>\n",
       "      <th>0</th>\n",
       "      <td>How's your week going so far? Weekly post #264 [Here's last week's thread](https://old.reddit.com/r/aspergers/comments/11g6v1j/hows_your_week_going_so_far_weekly_post_263/)\\n\\nSuggestions are ALWAYS welcome on how to improve the threads I post at any time. After all, I do this because the community wants these threads to exist, and I take the time out of my day (every Thursday and Saturday) to post the weekly threads, to ensure the community gets what it feels it needs.\\n\\n**So, continuing with the theme... /r/aspergers, How is your week going so far?** :)</td>\n",
       "      <td>1</td>\n",
       "      <td>hows your week going so far weekly post 264 heres last weeks threadhttpsoldredditcomraspergerscomments11g6v1jhowsyourweekgoingsofarweeklypost263suggestions are always welcome on how to improve the threads i post at any time after all i do this because the community wants these threads to exist and i take the time out of my day every thursday and saturday to post the weekly threads to ensure the community gets what it feels it needsso continuing with the theme raspergers how is your week going so far</td>\n",
       "      <td>[hows, week, going, far, weekly, post, 264, heres, last, weeks, threadhttpsoldredditcomraspergerscomments11g6v1jhowsyourweekgoingsofarweeklypost263suggestions, always, welcome, improve, threads, post, time, community, wants, threads, exist, take, time, day, every, thursday, saturday, post, weekly, threads, ensure, community, gets, feels, needsso, continuing, theme, raspergers, week, going, far]</td>\n",
       "    </tr>\n",
       "    <tr>\n",
       "      <th>1</th>\n",
       "      <td>Solitude Project Saturday: What projects are you working on that pertain to your (special) interests? Weekly post #264 [Here's last week's Solitude Project Saturday](https://old.reddit.com/r/aspergers/comments/11i5qdt/solitude_project_saturday_what_projects_are_you/)\\n\\n**So, /r/aspergers, what projects do you have on the go right now? Any ideas on the backburner for one reason or another? Any ideas just in the planning phase?** Even if you are working on them with someone else, they still apply here. If you can mention the interest that you have that relates to the project, that would be great; it may help others.</td>\n",
       "      <td>1</td>\n",
       "      <td>solitude project saturday what projects are you working on that pertain to your special interests weekly post 264 heres last weeks solitude project saturdayhttpsoldredditcomraspergerscomments11i5qdtsolitudeprojectsaturdaywhatprojectsareyouso raspergers what projects do you have on the go right now any ideas on the backburner for one reason or another any ideas just in the planning phase even if you are working on them with someone else they still apply here if you can mention the interest that you have that relates to the project that would be great it may help others</td>\n",
       "      <td>[solitude, project, saturday, projects, working, pertain, special, interests, weekly, post, 264, heres, last, weeks, solitude, project, saturdayhttpsoldredditcomraspergerscomments11i5qdtsolitudeprojectsaturdaywhatprojectsareyouso, raspergers, projects, go, right, ideas, backburner, one, reason, another, ideas, planning, phase, even, working, someone, else, still, apply, mention, interest, relates, project, would, great, may, help, others]</td>\n",
       "    </tr>\n",
       "    <tr>\n",
       "      <th>2</th>\n",
       "      <td>I need to prepare both mentally and physically for a long time just to go on a casual outing. Can you relate? The only time I agree to go out with people is when I have been given a lot of notice. Even if it’s just a casual outing that seems like nbd to most people. \\n\\nFor example I am going with my SO to his friends house for a dink in a few days and I can’t stop thinking about it. What am I going to wear? How will I respond if they ask me this question or that question? I prepare to meet friends like I’m preparing to go for an interview (don’t even get me started about how I prepare for an actual interview) I feel this is not normal. I’m new to this sub.\\n\\nAlso, if I run into someone spontaneously like someone visits without telling me or I see someone out and about or my husband forgets to tell me that someone’s coming by - I am a completely different person, like I don’t know how to socialize and I am so awkward. I’ve even hidden in the bathroom or bedroom a few times and told my husband to say I’m not home. I feel horrible and like I am so fucked up for this. If I’m forced to interact I feel like they think I’m a completely different person from when I have had time to prepare</td>\n",
       "      <td>1</td>\n",
       "      <td>i need to prepare both mentally and physically for a long time just to go on a casual outing can you relate the only time i agree to go out with people is when i have been given a lot of notice even if it s just a casual outing that seems like nbd to most people for example i am going with my so to his friends house for a dink in a few days and i can t stop thinking about it what am i going to wear how will i respond if they ask me this question or that question i prepare to meet friends like i m preparing to go for an interview don t even get me started about how i prepare for an actual interview i feel this is not normal i m new to this subalso if i run into someone spontaneously like someone visits without telling me or i see someone out and about or my husband forgets to tell me that someone s coming by  i am a completely different person like i don t know how to socialize and i am so awkward i ve even hidden in the bathroom or bedroom a few times and told my husband to say i m not home i feel horrible and like i am so fucked up for this if i m forced to interact i feel like they think i m a completely different person from when i have had time to prepare</td>\n",
       "      <td>[need, prepare, mentally, physically, long, time, go, casual, outing, relate, time, agree, go, people, given, lot, notice, even, casual, outing, seems, like, nbd, people, example, going, friends, house, dink, days, stop, thinking, going, wear, respond, ask, question, question, prepare, meet, friends, like, preparing, go, interview, even, get, started, prepare, actual, interview, feel, normal, new, subalso, run, someone, spontaneously, like, someone, visits, without, telling, see, someone, husband, forgets, tell, someone, coming, completely, different, person, like, know, socialize, awkward, even, hidden, bathroom, bedroom, times, told, husband, say, home, feel, horrible, like, fucked, forced, interact, feel, like, think, completely, different, person, time, prepare]</td>\n",
       "    </tr>\n",
       "  </tbody>\n",
       "</table>\n",
       "</div>"
      ],
      "text/plain": [
       "                                                                                                                                                                                                                                                                                                                                                                                                                                                                                                                                                                                                                                                                                                                                                                                                                                                                                                                                                                                                                                                                                                                                                                                                                                         text_feature  \\\n",
       "0                                                                                                                                                                                                                                                                                                                                                                                                                                                                                                                                                                                                                                                                  How's your week going so far? Weekly post #264 [Here's last week's thread](https://old.reddit.com/r/aspergers/comments/11g6v1j/hows_your_week_going_so_far_weekly_post_263/)\\n\\nSuggestions are ALWAYS welcome on how to improve the threads I post at any time. After all, I do this because the community wants these threads to exist, and I take the time out of my day (every Thursday and Saturday) to post the weekly threads, to ensure the community gets what it feels it needs.\\n\\n**So, continuing with the theme... /r/aspergers, How is your week going so far?** :)   \n",
       "1                                                                                                                                                                                                                                                                                                                                                                                                                                                                                                                                                                                                      Solitude Project Saturday: What projects are you working on that pertain to your (special) interests? Weekly post #264 [Here's last week's Solitude Project Saturday](https://old.reddit.com/r/aspergers/comments/11i5qdt/solitude_project_saturday_what_projects_are_you/)\\n\\n**So, /r/aspergers, what projects do you have on the go right now? Any ideas on the backburner for one reason or another? Any ideas just in the planning phase?** Even if you are working on them with someone else, they still apply here. If you can mention the interest that you have that relates to the project, that would be great; it may help others.   \n",
       "2  I need to prepare both mentally and physically for a long time just to go on a casual outing. Can you relate? The only time I agree to go out with people is when I have been given a lot of notice. Even if it’s just a casual outing that seems like nbd to most people. \\n\\nFor example I am going with my SO to his friends house for a dink in a few days and I can’t stop thinking about it. What am I going to wear? How will I respond if they ask me this question or that question? I prepare to meet friends like I’m preparing to go for an interview (don’t even get me started about how I prepare for an actual interview) I feel this is not normal. I’m new to this sub.\\n\\nAlso, if I run into someone spontaneously like someone visits without telling me or I see someone out and about or my husband forgets to tell me that someone’s coming by - I am a completely different person, like I don’t know how to socialize and I am so awkward. I’ve even hidden in the bathroom or bedroom a few times and told my husband to say I’m not home. I feel horrible and like I am so fucked up for this. If I’m forced to interact I feel like they think I’m a completely different person from when I have had time to prepare   \n",
       "\n",
       "   diagnosis  \\\n",
       "0          1   \n",
       "1          1   \n",
       "2          1   \n",
       "\n",
       "                                                                                                                                                                                                                                                                                                                                                                                                                                                                                                                                                                                                                                                                                                                                                                                                                                                                                                                                                                                                                                                                                                                                                                                                                  text_clean  \\\n",
       "0                                                                                                                                                                                                                                                                                                                                                                                                                                                                                                                                                                                                                                                                                                  hows your week going so far weekly post 264 heres last weeks threadhttpsoldredditcomraspergerscomments11g6v1jhowsyourweekgoingsofarweeklypost263suggestions are always welcome on how to improve the threads i post at any time after all i do this because the community wants these threads to exist and i take the time out of my day every thursday and saturday to post the weekly threads to ensure the community gets what it feels it needsso continuing with the theme raspergers how is your week going so far    \n",
       "1                                                                                                                                                                                                                                                                                                                                                                                                                                                                                                                                                                                                                             solitude project saturday what projects are you working on that pertain to your special interests weekly post 264 heres last weeks solitude project saturdayhttpsoldredditcomraspergerscomments11i5qdtsolitudeprojectsaturdaywhatprojectsareyouso raspergers what projects do you have on the go right now any ideas on the backburner for one reason or another any ideas just in the planning phase even if you are working on them with someone else they still apply here if you can mention the interest that you have that relates to the project that would be great it may help others   \n",
       "2  i need to prepare both mentally and physically for a long time just to go on a casual outing can you relate the only time i agree to go out with people is when i have been given a lot of notice even if it s just a casual outing that seems like nbd to most people for example i am going with my so to his friends house for a dink in a few days and i can t stop thinking about it what am i going to wear how will i respond if they ask me this question or that question i prepare to meet friends like i m preparing to go for an interview don t even get me started about how i prepare for an actual interview i feel this is not normal i m new to this subalso if i run into someone spontaneously like someone visits without telling me or i see someone out and about or my husband forgets to tell me that someone s coming by  i am a completely different person like i don t know how to socialize and i am so awkward i ve even hidden in the bathroom or bedroom a few times and told my husband to say i m not home i feel horrible and like i am so fucked up for this if i m forced to interact i feel like they think i m a completely different person from when i have had time to prepare   \n",
       "\n",
       "                                                                                                                                                                                                                                                                                                                                                                                                                                                                                                                                                                                                                                                                                                                                                                                              no_stop_words  \n",
       "0                                                                                                                                                                                                                                                                                                                                                                                             [hows, week, going, far, weekly, post, 264, heres, last, weeks, threadhttpsoldredditcomraspergerscomments11g6v1jhowsyourweekgoingsofarweeklypost263suggestions, always, welcome, improve, threads, post, time, community, wants, threads, exist, take, time, day, every, thursday, saturday, post, weekly, threads, ensure, community, gets, feels, needsso, continuing, theme, raspergers, week, going, far]  \n",
       "1                                                                                                                                                                                                                                                                                                                                                [solitude, project, saturday, projects, working, pertain, special, interests, weekly, post, 264, heres, last, weeks, solitude, project, saturdayhttpsoldredditcomraspergerscomments11i5qdtsolitudeprojectsaturdaywhatprojectsareyouso, raspergers, projects, go, right, ideas, backburner, one, reason, another, ideas, planning, phase, even, working, someone, else, still, apply, mention, interest, relates, project, would, great, may, help, others]  \n",
       "2  [need, prepare, mentally, physically, long, time, go, casual, outing, relate, time, agree, go, people, given, lot, notice, even, casual, outing, seems, like, nbd, people, example, going, friends, house, dink, days, stop, thinking, going, wear, respond, ask, question, question, prepare, meet, friends, like, preparing, go, interview, even, get, started, prepare, actual, interview, feel, normal, new, subalso, run, someone, spontaneously, like, someone, visits, without, telling, see, someone, husband, forgets, tell, someone, coming, completely, different, person, like, know, socialize, awkward, even, hidden, bathroom, bedroom, times, told, husband, say, home, feel, horrible, like, fucked, forced, interact, feel, like, think, completely, different, person, time, prepare]  "
      ]
     },
     "execution_count": 11,
     "metadata": {},
     "output_type": "execute_result"
    }
   ],
   "source": [
    "df.head(3)"
   ]
  },
  {
   "cell_type": "code",
   "execution_count": 12,
   "id": "761632f6-3c5b-4595-8476-2ec7ef80f9d5",
   "metadata": {
    "tags": []
   },
   "outputs": [],
   "source": [
    "# import necessary module to \"lemmatize\" data\n",
    "from nltk.stem import WordNetLemmatizer"
   ]
  },
  {
   "cell_type": "code",
   "execution_count": 13,
   "id": "ec5dc06c-5aa5-4397-8145-34b3e1ff37cc",
   "metadata": {},
   "outputs": [],
   "source": [
    "# instantiate lemmatizer\n",
    "lemmatizer = WordNetLemmatizer()"
   ]
  },
  {
   "cell_type": "code",
   "execution_count": 14,
   "id": "06fa33f1-f016-4dc1-8458-3b28bee63341",
   "metadata": {},
   "outputs": [],
   "source": [
    "# create new column 'lemma'\n",
    "df['lemma'] = ' '"
   ]
  },
  {
   "cell_type": "code",
   "execution_count": 15,
   "id": "1a279beb-030a-45ef-afe3-965b5bb9af5d",
   "metadata": {},
   "outputs": [
    {
     "name": "stderr",
     "output_type": "stream",
     "text": [
      "/var/folders/1k/lmhy97td4h17yfgn7vlzp0ph0000gn/T/ipykernel_78299/1159824920.py:3: SettingWithCopyWarning: \n",
      "A value is trying to be set on a copy of a slice from a DataFrame\n",
      "\n",
      "See the caveats in the documentation: https://pandas.pydata.org/pandas-docs/stable/user_guide/indexing.html#returning-a-view-versus-a-copy\n",
      "  df['lemma'][i]=' '.join([lemmatizer.lemmatize(word) for word in df['no_stop_words'][i]])\n"
     ]
    }
   ],
   "source": [
    "# lemmatise 'text_clean'\n",
    "for i in range(len(df['no_stop_words'])):\n",
    "    df['lemma'][i]=' '.join([lemmatizer.lemmatize(word) for word in df['no_stop_words'][i]])"
   ]
  },
  {
   "cell_type": "code",
   "execution_count": 16,
   "id": "41c9e898-0a2a-4f56-ab04-09ef4c0af6ee",
   "metadata": {
    "scrolled": true,
    "tags": []
   },
   "outputs": [
    {
     "data": {
      "text/html": [
       "<div>\n",
       "<style scoped>\n",
       "    .dataframe tbody tr th:only-of-type {\n",
       "        vertical-align: middle;\n",
       "    }\n",
       "\n",
       "    .dataframe tbody tr th {\n",
       "        vertical-align: top;\n",
       "    }\n",
       "\n",
       "    .dataframe thead th {\n",
       "        text-align: right;\n",
       "    }\n",
       "</style>\n",
       "<table border=\"1\" class=\"dataframe\">\n",
       "  <thead>\n",
       "    <tr style=\"text-align: right;\">\n",
       "      <th></th>\n",
       "      <th>text_feature</th>\n",
       "      <th>diagnosis</th>\n",
       "      <th>text_clean</th>\n",
       "      <th>no_stop_words</th>\n",
       "      <th>lemma</th>\n",
       "    </tr>\n",
       "  </thead>\n",
       "  <tbody>\n",
       "    <tr>\n",
       "      <th>0</th>\n",
       "      <td>How's your week going so far? Weekly post #264 [Here's last week's thread](https://old.reddit.com/r/aspergers/comments/11g6v1j/hows_your_week_going_so_far_weekly_post_263/)\\n\\nSuggestions are ALWAYS welcome on how to improve the threads I post at any time. After all, I do this because the community wants these threads to exist, and I take the time out of my day (every Thursday and Saturday) to post the weekly threads, to ensure the community gets what it feels it needs.\\n\\n**So, continuing with the theme... /r/aspergers, How is your week going so far?** :)</td>\n",
       "      <td>1</td>\n",
       "      <td>hows your week going so far weekly post 264 heres last weeks threadhttpsoldredditcomraspergerscomments11g6v1jhowsyourweekgoingsofarweeklypost263suggestions are always welcome on how to improve the threads i post at any time after all i do this because the community wants these threads to exist and i take the time out of my day every thursday and saturday to post the weekly threads to ensure the community gets what it feels it needsso continuing with the theme raspergers how is your week going so far</td>\n",
       "      <td>[hows, week, going, far, weekly, post, 264, heres, last, weeks, threadhttpsoldredditcomraspergerscomments11g6v1jhowsyourweekgoingsofarweeklypost263suggestions, always, welcome, improve, threads, post, time, community, wants, threads, exist, take, time, day, every, thursday, saturday, post, weekly, threads, ensure, community, gets, feels, needsso, continuing, theme, raspergers, week, going, far]</td>\n",
       "      <td>hows week going far weekly post 264 here last week threadhttpsoldredditcomraspergerscomments11g6v1jhowsyourweekgoingsofarweeklypost263suggestions always welcome improve thread post time community want thread exist take time day every thursday saturday post weekly thread ensure community get feel needsso continuing theme raspergers week going far</td>\n",
       "    </tr>\n",
       "    <tr>\n",
       "      <th>1</th>\n",
       "      <td>Solitude Project Saturday: What projects are you working on that pertain to your (special) interests? Weekly post #264 [Here's last week's Solitude Project Saturday](https://old.reddit.com/r/aspergers/comments/11i5qdt/solitude_project_saturday_what_projects_are_you/)\\n\\n**So, /r/aspergers, what projects do you have on the go right now? Any ideas on the backburner for one reason or another? Any ideas just in the planning phase?** Even if you are working on them with someone else, they still apply here. If you can mention the interest that you have that relates to the project, that would be great; it may help others.</td>\n",
       "      <td>1</td>\n",
       "      <td>solitude project saturday what projects are you working on that pertain to your special interests weekly post 264 heres last weeks solitude project saturdayhttpsoldredditcomraspergerscomments11i5qdtsolitudeprojectsaturdaywhatprojectsareyouso raspergers what projects do you have on the go right now any ideas on the backburner for one reason or another any ideas just in the planning phase even if you are working on them with someone else they still apply here if you can mention the interest that you have that relates to the project that would be great it may help others</td>\n",
       "      <td>[solitude, project, saturday, projects, working, pertain, special, interests, weekly, post, 264, heres, last, weeks, solitude, project, saturdayhttpsoldredditcomraspergerscomments11i5qdtsolitudeprojectsaturdaywhatprojectsareyouso, raspergers, projects, go, right, ideas, backburner, one, reason, another, ideas, planning, phase, even, working, someone, else, still, apply, mention, interest, relates, project, would, great, may, help, others]</td>\n",
       "      <td>solitude project saturday project working pertain special interest weekly post 264 here last week solitude project saturdayhttpsoldredditcomraspergerscomments11i5qdtsolitudeprojectsaturdaywhatprojectsareyouso raspergers project go right idea backburner one reason another idea planning phase even working someone else still apply mention interest relates project would great may help others</td>\n",
       "    </tr>\n",
       "    <tr>\n",
       "      <th>2</th>\n",
       "      <td>I need to prepare both mentally and physically for a long time just to go on a casual outing. Can you relate? The only time I agree to go out with people is when I have been given a lot of notice. Even if it’s just a casual outing that seems like nbd to most people. \\n\\nFor example I am going with my SO to his friends house for a dink in a few days and I can’t stop thinking about it. What am I going to wear? How will I respond if they ask me this question or that question? I prepare to meet friends like I’m preparing to go for an interview (don’t even get me started about how I prepare for an actual interview) I feel this is not normal. I’m new to this sub.\\n\\nAlso, if I run into someone spontaneously like someone visits without telling me or I see someone out and about or my husband forgets to tell me that someone’s coming by - I am a completely different person, like I don’t know how to socialize and I am so awkward. I’ve even hidden in the bathroom or bedroom a few times and told my husband to say I’m not home. I feel horrible and like I am so fucked up for this. If I’m forced to interact I feel like they think I’m a completely different person from when I have had time to prepare</td>\n",
       "      <td>1</td>\n",
       "      <td>i need to prepare both mentally and physically for a long time just to go on a casual outing can you relate the only time i agree to go out with people is when i have been given a lot of notice even if it s just a casual outing that seems like nbd to most people for example i am going with my so to his friends house for a dink in a few days and i can t stop thinking about it what am i going to wear how will i respond if they ask me this question or that question i prepare to meet friends like i m preparing to go for an interview don t even get me started about how i prepare for an actual interview i feel this is not normal i m new to this subalso if i run into someone spontaneously like someone visits without telling me or i see someone out and about or my husband forgets to tell me that someone s coming by  i am a completely different person like i don t know how to socialize and i am so awkward i ve even hidden in the bathroom or bedroom a few times and told my husband to say i m not home i feel horrible and like i am so fucked up for this if i m forced to interact i feel like they think i m a completely different person from when i have had time to prepare</td>\n",
       "      <td>[need, prepare, mentally, physically, long, time, go, casual, outing, relate, time, agree, go, people, given, lot, notice, even, casual, outing, seems, like, nbd, people, example, going, friends, house, dink, days, stop, thinking, going, wear, respond, ask, question, question, prepare, meet, friends, like, preparing, go, interview, even, get, started, prepare, actual, interview, feel, normal, new, subalso, run, someone, spontaneously, like, someone, visits, without, telling, see, someone, husband, forgets, tell, someone, coming, completely, different, person, like, know, socialize, awkward, even, hidden, bathroom, bedroom, times, told, husband, say, home, feel, horrible, like, fucked, forced, interact, feel, like, think, completely, different, person, time, prepare]</td>\n",
       "      <td>need prepare mentally physically long time go casual outing relate time agree go people given lot notice even casual outing seems like nbd people example going friend house dink day stop thinking going wear respond ask question question prepare meet friend like preparing go interview even get started prepare actual interview feel normal new subalso run someone spontaneously like someone visit without telling see someone husband forgets tell someone coming completely different person like know socialize awkward even hidden bathroom bedroom time told husband say home feel horrible like fucked forced interact feel like think completely different person time prepare</td>\n",
       "    </tr>\n",
       "  </tbody>\n",
       "</table>\n",
       "</div>"
      ],
      "text/plain": [
       "                                                                                                                                                                                                                                                                                                                                                                                                                                                                                                                                                                                                                                                                                                                                                                                                                                                                                                                                                                                                                                                                                                                                                                                                                                         text_feature  \\\n",
       "0                                                                                                                                                                                                                                                                                                                                                                                                                                                                                                                                                                                                                                                                  How's your week going so far? Weekly post #264 [Here's last week's thread](https://old.reddit.com/r/aspergers/comments/11g6v1j/hows_your_week_going_so_far_weekly_post_263/)\\n\\nSuggestions are ALWAYS welcome on how to improve the threads I post at any time. After all, I do this because the community wants these threads to exist, and I take the time out of my day (every Thursday and Saturday) to post the weekly threads, to ensure the community gets what it feels it needs.\\n\\n**So, continuing with the theme... /r/aspergers, How is your week going so far?** :)   \n",
       "1                                                                                                                                                                                                                                                                                                                                                                                                                                                                                                                                                                                                      Solitude Project Saturday: What projects are you working on that pertain to your (special) interests? Weekly post #264 [Here's last week's Solitude Project Saturday](https://old.reddit.com/r/aspergers/comments/11i5qdt/solitude_project_saturday_what_projects_are_you/)\\n\\n**So, /r/aspergers, what projects do you have on the go right now? Any ideas on the backburner for one reason or another? Any ideas just in the planning phase?** Even if you are working on them with someone else, they still apply here. If you can mention the interest that you have that relates to the project, that would be great; it may help others.   \n",
       "2  I need to prepare both mentally and physically for a long time just to go on a casual outing. Can you relate? The only time I agree to go out with people is when I have been given a lot of notice. Even if it’s just a casual outing that seems like nbd to most people. \\n\\nFor example I am going with my SO to his friends house for a dink in a few days and I can’t stop thinking about it. What am I going to wear? How will I respond if they ask me this question or that question? I prepare to meet friends like I’m preparing to go for an interview (don’t even get me started about how I prepare for an actual interview) I feel this is not normal. I’m new to this sub.\\n\\nAlso, if I run into someone spontaneously like someone visits without telling me or I see someone out and about or my husband forgets to tell me that someone’s coming by - I am a completely different person, like I don’t know how to socialize and I am so awkward. I’ve even hidden in the bathroom or bedroom a few times and told my husband to say I’m not home. I feel horrible and like I am so fucked up for this. If I’m forced to interact I feel like they think I’m a completely different person from when I have had time to prepare   \n",
       "\n",
       "   diagnosis  \\\n",
       "0          1   \n",
       "1          1   \n",
       "2          1   \n",
       "\n",
       "                                                                                                                                                                                                                                                                                                                                                                                                                                                                                                                                                                                                                                                                                                                                                                                                                                                                                                                                                                                                                                                                                                                                                                                                                  text_clean  \\\n",
       "0                                                                                                                                                                                                                                                                                                                                                                                                                                                                                                                                                                                                                                                                                                  hows your week going so far weekly post 264 heres last weeks threadhttpsoldredditcomraspergerscomments11g6v1jhowsyourweekgoingsofarweeklypost263suggestions are always welcome on how to improve the threads i post at any time after all i do this because the community wants these threads to exist and i take the time out of my day every thursday and saturday to post the weekly threads to ensure the community gets what it feels it needsso continuing with the theme raspergers how is your week going so far    \n",
       "1                                                                                                                                                                                                                                                                                                                                                                                                                                                                                                                                                                                                                             solitude project saturday what projects are you working on that pertain to your special interests weekly post 264 heres last weeks solitude project saturdayhttpsoldredditcomraspergerscomments11i5qdtsolitudeprojectsaturdaywhatprojectsareyouso raspergers what projects do you have on the go right now any ideas on the backburner for one reason or another any ideas just in the planning phase even if you are working on them with someone else they still apply here if you can mention the interest that you have that relates to the project that would be great it may help others   \n",
       "2  i need to prepare both mentally and physically for a long time just to go on a casual outing can you relate the only time i agree to go out with people is when i have been given a lot of notice even if it s just a casual outing that seems like nbd to most people for example i am going with my so to his friends house for a dink in a few days and i can t stop thinking about it what am i going to wear how will i respond if they ask me this question or that question i prepare to meet friends like i m preparing to go for an interview don t even get me started about how i prepare for an actual interview i feel this is not normal i m new to this subalso if i run into someone spontaneously like someone visits without telling me or i see someone out and about or my husband forgets to tell me that someone s coming by  i am a completely different person like i don t know how to socialize and i am so awkward i ve even hidden in the bathroom or bedroom a few times and told my husband to say i m not home i feel horrible and like i am so fucked up for this if i m forced to interact i feel like they think i m a completely different person from when i have had time to prepare   \n",
       "\n",
       "                                                                                                                                                                                                                                                                                                                                                                                                                                                                                                                                                                                                                                                                                                                                                                                              no_stop_words  \\\n",
       "0                                                                                                                                                                                                                                                                                                                                                                                             [hows, week, going, far, weekly, post, 264, heres, last, weeks, threadhttpsoldredditcomraspergerscomments11g6v1jhowsyourweekgoingsofarweeklypost263suggestions, always, welcome, improve, threads, post, time, community, wants, threads, exist, take, time, day, every, thursday, saturday, post, weekly, threads, ensure, community, gets, feels, needsso, continuing, theme, raspergers, week, going, far]   \n",
       "1                                                                                                                                                                                                                                                                                                                                                [solitude, project, saturday, projects, working, pertain, special, interests, weekly, post, 264, heres, last, weeks, solitude, project, saturdayhttpsoldredditcomraspergerscomments11i5qdtsolitudeprojectsaturdaywhatprojectsareyouso, raspergers, projects, go, right, ideas, backburner, one, reason, another, ideas, planning, phase, even, working, someone, else, still, apply, mention, interest, relates, project, would, great, may, help, others]   \n",
       "2  [need, prepare, mentally, physically, long, time, go, casual, outing, relate, time, agree, go, people, given, lot, notice, even, casual, outing, seems, like, nbd, people, example, going, friends, house, dink, days, stop, thinking, going, wear, respond, ask, question, question, prepare, meet, friends, like, preparing, go, interview, even, get, started, prepare, actual, interview, feel, normal, new, subalso, run, someone, spontaneously, like, someone, visits, without, telling, see, someone, husband, forgets, tell, someone, coming, completely, different, person, like, know, socialize, awkward, even, hidden, bathroom, bedroom, times, told, husband, say, home, feel, horrible, like, fucked, forced, interact, feel, like, think, completely, different, person, time, prepare]   \n",
       "\n",
       "                                                                                                                                                                                                                                                                                                                                                                                                                                                                                                                                                                                                                                                                                            lemma  \n",
       "0                                                                                                                                                                                                                                                                                                                                     hows week going far weekly post 264 here last week threadhttpsoldredditcomraspergerscomments11g6v1jhowsyourweekgoingsofarweeklypost263suggestions always welcome improve thread post time community want thread exist take time day every thursday saturday post weekly thread ensure community get feel needsso continuing theme raspergers week going far  \n",
       "1                                                                                                                                                                                                                                                                                          solitude project saturday project working pertain special interest weekly post 264 here last week solitude project saturdayhttpsoldredditcomraspergerscomments11i5qdtsolitudeprojectsaturdaywhatprojectsareyouso raspergers project go right idea backburner one reason another idea planning phase even working someone else still apply mention interest relates project would great may help others  \n",
       "2  need prepare mentally physically long time go casual outing relate time agree go people given lot notice even casual outing seems like nbd people example going friend house dink day stop thinking going wear respond ask question question prepare meet friend like preparing go interview even get started prepare actual interview feel normal new subalso run someone spontaneously like someone visit without telling see someone husband forgets tell someone coming completely different person like know socialize awkward even hidden bathroom bedroom time told husband say home feel horrible like fucked forced interact feel like think completely different person time prepare  "
      ]
     },
     "execution_count": 16,
     "metadata": {},
     "output_type": "execute_result"
    }
   ],
   "source": [
    "df.head(3)"
   ]
  },
  {
   "cell_type": "markdown",
   "id": "e0939ee4-4acd-42cd-977e-a126a01a1ef4",
   "metadata": {},
   "source": [
    "2. Split our data into `X` and `y`."
   ]
  },
  {
   "cell_type": "markdown",
   "id": "d5fce503-6870-4bae-aedc-e7fccd2573ac",
   "metadata": {},
   "source": [
    "Let's set up our data for modeling:\n",
    "- `X` will be the `lemma` column. **NOTE**: `CountVectorizer` requires a vector, so make sure you set `X` to be a `pandas` Series, **not** a DataFrame.\n",
    "- `y` will be the `diagnosis` column"
   ]
  },
  {
   "cell_type": "code",
   "execution_count": 17,
   "id": "1711476f-5860-4117-a277-4cd915d23d1d",
   "metadata": {},
   "outputs": [],
   "source": [
    "X = df['lemma']\n",
    "y = df['diagnosis']"
   ]
  },
  {
   "cell_type": "code",
   "execution_count": 18,
   "id": "5af952f8-88bf-42b5-be93-7ce1274273c0",
   "metadata": {},
   "outputs": [
    {
     "data": {
      "text/plain": [
       "0    0.50235\n",
       "1    0.49765\n",
       "Name: diagnosis, dtype: float64"
      ]
     },
     "execution_count": 18,
     "metadata": {},
     "output_type": "execute_result"
    }
   ],
   "source": [
    "# Check what we need to check in a classification problem.\n",
    "y.value_counts(normalize = True)"
   ]
  },
  {
   "cell_type": "markdown",
   "id": "6ebf394a-edbd-4b39-a63d-b713d3203bb0",
   "metadata": {},
   "source": [
    "3. Split our data into train, validation, and test sets."
   ]
  },
  {
   "cell_type": "code",
   "execution_count": 19,
   "id": "abb7666d-8af0-4e5b-8ca7-a5d19a08c86e",
   "metadata": {},
   "outputs": [],
   "source": [
    "# Split the data into the training and testing sets.\n",
    "X_train, X_test, y_train, y_test = train_test_split(X,\n",
    "                                                    y,\n",
    "                                                    test_size=0.25,\n",
    "                                                    stratify=y,\n",
    "                                                    random_state=42)"
   ]
  },
  {
   "cell_type": "markdown",
   "id": "083836c9-971c-4fde-a5bd-275e87a03785",
   "metadata": {},
   "source": [
    "Naive Bayes to predict whether a social media post was featured on r/Aspergers or r/Gifted."
   ]
  },
  {
   "cell_type": "markdown",
   "id": "b49efb42-990a-446e-87b1-b373439597d3",
   "metadata": {},
   "source": [
    "4. Encode/convert text data into a structured, numeric X dataframe using CountVectorizer(). Executed step 4 to generate a list of top 25 commonly occuring words. The list of top 25 commonly occuring words will be instrumental in the creation a customised list of stopwords. "
   ]
  },
  {
   "cell_type": "code",
   "execution_count": 41,
   "id": "6b97e5b3-60d1-41c7-b65c-2917304fba55",
   "metadata": {},
   "outputs": [],
   "source": [
    "\"\"\"\"\"\n",
    "# instantiate a CountVectorizer with the default hyperparameters\n",
    "cvec = CountVectorizer()\n",
    "\n",
    "# fit the vectorizer on our corpus\n",
    "cvec.fit(X_train)\n",
    "\n",
    "# transform the corpus\n",
    "X_train = cvec.transform(X_train)\n",
    "print(X_train)\n",
    "\n",
    "# examine a part of the columns in the text vector\n",
    "cvec.get_feature_names_out()[1000:1010]\n",
    "\n",
    "# convert vectorised training data into dataframe\n",
    "X_train_df = pd.DataFrame(X_train.todense(), \n",
    "                          columns=cvec.get_feature_names_out())\n",
    "\n",
    "# plot top 25 commonly occuring words\n",
    "X_train_df.sum().sort_values(ascending=False).head(25).plot(kind='barh')\n",
    "\"\"\"\"\";"
   ]
  },
  {
   "cell_type": "code",
   "execution_count": 21,
   "id": "06ff8d1f-9626-493c-8db0-830cbaa84d89",
   "metadata": {
    "scrolled": true,
    "tags": []
   },
   "outputs": [
    {
     "data": {
      "text/plain": [
       "frozenset({'a',\n",
       "           'about',\n",
       "           'above',\n",
       "           'across',\n",
       "           'after',\n",
       "           'afterwards',\n",
       "           'again',\n",
       "           'against',\n",
       "           'all',\n",
       "           'almost',\n",
       "           'alone',\n",
       "           'along',\n",
       "           'already',\n",
       "           'also',\n",
       "           'although',\n",
       "           'always',\n",
       "           'am',\n",
       "           'among',\n",
       "           'amongst',\n",
       "           'amoungst',\n",
       "           'amount',\n",
       "           'an',\n",
       "           'and',\n",
       "           'another',\n",
       "           'any',\n",
       "           'anyhow',\n",
       "           'anyone',\n",
       "           'anything',\n",
       "           'anyway',\n",
       "           'anywhere',\n",
       "           'are',\n",
       "           'around',\n",
       "           'as',\n",
       "           'at',\n",
       "           'back',\n",
       "           'be',\n",
       "           'became',\n",
       "           'because',\n",
       "           'become',\n",
       "           'becomes',\n",
       "           'becoming',\n",
       "           'been',\n",
       "           'before',\n",
       "           'beforehand',\n",
       "           'behind',\n",
       "           'being',\n",
       "           'below',\n",
       "           'beside',\n",
       "           'besides',\n",
       "           'between',\n",
       "           'beyond',\n",
       "           'bill',\n",
       "           'both',\n",
       "           'bottom',\n",
       "           'but',\n",
       "           'by',\n",
       "           'call',\n",
       "           'can',\n",
       "           'cannot',\n",
       "           'cant',\n",
       "           'co',\n",
       "           'con',\n",
       "           'could',\n",
       "           'couldnt',\n",
       "           'cry',\n",
       "           'de',\n",
       "           'describe',\n",
       "           'detail',\n",
       "           'do',\n",
       "           'done',\n",
       "           'down',\n",
       "           'due',\n",
       "           'during',\n",
       "           'each',\n",
       "           'eg',\n",
       "           'eight',\n",
       "           'either',\n",
       "           'eleven',\n",
       "           'else',\n",
       "           'elsewhere',\n",
       "           'empty',\n",
       "           'enough',\n",
       "           'etc',\n",
       "           'even',\n",
       "           'ever',\n",
       "           'every',\n",
       "           'everyone',\n",
       "           'everything',\n",
       "           'everywhere',\n",
       "           'except',\n",
       "           'few',\n",
       "           'fifteen',\n",
       "           'fifty',\n",
       "           'fill',\n",
       "           'find',\n",
       "           'fire',\n",
       "           'first',\n",
       "           'five',\n",
       "           'for',\n",
       "           'former',\n",
       "           'formerly',\n",
       "           'forty',\n",
       "           'found',\n",
       "           'four',\n",
       "           'from',\n",
       "           'front',\n",
       "           'full',\n",
       "           'further',\n",
       "           'get',\n",
       "           'give',\n",
       "           'go',\n",
       "           'had',\n",
       "           'has',\n",
       "           'hasnt',\n",
       "           'have',\n",
       "           'he',\n",
       "           'hence',\n",
       "           'her',\n",
       "           'here',\n",
       "           'hereafter',\n",
       "           'hereby',\n",
       "           'herein',\n",
       "           'hereupon',\n",
       "           'hers',\n",
       "           'herself',\n",
       "           'him',\n",
       "           'himself',\n",
       "           'his',\n",
       "           'how',\n",
       "           'however',\n",
       "           'hundred',\n",
       "           'i',\n",
       "           'ie',\n",
       "           'if',\n",
       "           'in',\n",
       "           'inc',\n",
       "           'indeed',\n",
       "           'interest',\n",
       "           'into',\n",
       "           'is',\n",
       "           'it',\n",
       "           'its',\n",
       "           'itself',\n",
       "           'keep',\n",
       "           'last',\n",
       "           'latter',\n",
       "           'latterly',\n",
       "           'least',\n",
       "           'less',\n",
       "           'ltd',\n",
       "           'made',\n",
       "           'many',\n",
       "           'may',\n",
       "           'me',\n",
       "           'meanwhile',\n",
       "           'might',\n",
       "           'mill',\n",
       "           'mine',\n",
       "           'more',\n",
       "           'moreover',\n",
       "           'most',\n",
       "           'mostly',\n",
       "           'move',\n",
       "           'much',\n",
       "           'must',\n",
       "           'my',\n",
       "           'myself',\n",
       "           'name',\n",
       "           'namely',\n",
       "           'neither',\n",
       "           'never',\n",
       "           'nevertheless',\n",
       "           'next',\n",
       "           'nine',\n",
       "           'no',\n",
       "           'nobody',\n",
       "           'none',\n",
       "           'noone',\n",
       "           'nor',\n",
       "           'not',\n",
       "           'nothing',\n",
       "           'now',\n",
       "           'nowhere',\n",
       "           'of',\n",
       "           'off',\n",
       "           'often',\n",
       "           'on',\n",
       "           'once',\n",
       "           'one',\n",
       "           'only',\n",
       "           'onto',\n",
       "           'or',\n",
       "           'other',\n",
       "           'others',\n",
       "           'otherwise',\n",
       "           'our',\n",
       "           'ours',\n",
       "           'ourselves',\n",
       "           'out',\n",
       "           'over',\n",
       "           'own',\n",
       "           'part',\n",
       "           'per',\n",
       "           'perhaps',\n",
       "           'please',\n",
       "           'put',\n",
       "           'rather',\n",
       "           're',\n",
       "           'same',\n",
       "           'see',\n",
       "           'seem',\n",
       "           'seemed',\n",
       "           'seeming',\n",
       "           'seems',\n",
       "           'serious',\n",
       "           'several',\n",
       "           'she',\n",
       "           'should',\n",
       "           'show',\n",
       "           'side',\n",
       "           'since',\n",
       "           'sincere',\n",
       "           'six',\n",
       "           'sixty',\n",
       "           'so',\n",
       "           'some',\n",
       "           'somehow',\n",
       "           'someone',\n",
       "           'something',\n",
       "           'sometime',\n",
       "           'sometimes',\n",
       "           'somewhere',\n",
       "           'still',\n",
       "           'such',\n",
       "           'system',\n",
       "           'take',\n",
       "           'ten',\n",
       "           'than',\n",
       "           'that',\n",
       "           'the',\n",
       "           'their',\n",
       "           'them',\n",
       "           'themselves',\n",
       "           'then',\n",
       "           'thence',\n",
       "           'there',\n",
       "           'thereafter',\n",
       "           'thereby',\n",
       "           'therefore',\n",
       "           'therein',\n",
       "           'thereupon',\n",
       "           'these',\n",
       "           'they',\n",
       "           'thick',\n",
       "           'thin',\n",
       "           'third',\n",
       "           'this',\n",
       "           'those',\n",
       "           'though',\n",
       "           'three',\n",
       "           'through',\n",
       "           'throughout',\n",
       "           'thru',\n",
       "           'thus',\n",
       "           'to',\n",
       "           'together',\n",
       "           'too',\n",
       "           'top',\n",
       "           'toward',\n",
       "           'towards',\n",
       "           'twelve',\n",
       "           'twenty',\n",
       "           'two',\n",
       "           'un',\n",
       "           'under',\n",
       "           'until',\n",
       "           'up',\n",
       "           'upon',\n",
       "           'us',\n",
       "           'very',\n",
       "           'via',\n",
       "           'was',\n",
       "           'we',\n",
       "           'well',\n",
       "           'were',\n",
       "           'what',\n",
       "           'whatever',\n",
       "           'when',\n",
       "           'whence',\n",
       "           'whenever',\n",
       "           'where',\n",
       "           'whereafter',\n",
       "           'whereas',\n",
       "           'whereby',\n",
       "           'wherein',\n",
       "           'whereupon',\n",
       "           'wherever',\n",
       "           'whether',\n",
       "           'which',\n",
       "           'while',\n",
       "           'whither',\n",
       "           'who',\n",
       "           'whoever',\n",
       "           'whole',\n",
       "           'whom',\n",
       "           'whose',\n",
       "           'why',\n",
       "           'will',\n",
       "           'with',\n",
       "           'within',\n",
       "           'without',\n",
       "           'would',\n",
       "           'yet',\n",
       "           'you',\n",
       "           'your',\n",
       "           'yours',\n",
       "           'yourself',\n",
       "           'yourselves'})"
      ]
     },
     "execution_count": 21,
     "metadata": {},
     "output_type": "execute_result"
    }
   ],
   "source": [
    "# sklearn's stopwords\n",
    "CountVectorizer(stop_words = 'english').get_stop_words()"
   ]
  },
  {
   "attachments": {
    "1c07794d-47c5-4098-9de1-3660c0988cbc.png": {
     "image/png": "[encoded data removed]"
    }
   },
   "cell_type": "markdown",
   "id": "d241038f-054e-4e3d-90c8-3581ad6f6c81",
   "metadata": {},
   "source": [
    "Comment: Stopwords are very common words that are often removed because they amount to unnecessary information and removing them can dramatically speed up processing. The bag-of-words approach with the top 25 most commonly occuring words included might not add anything meaningful to our analysis. Customise a list of stopwords with the top 25 common words included as stopwords. \n",
    "\n",
    "![image.png](attachment:1c07794d-47c5-4098-9de1-3660c0988cbc.png)"
   ]
  },
  {
   "cell_type": "code",
   "execution_count": 22,
   "id": "8eccb5cd-1937-4ad5-8f04-9de9068264ee",
   "metadata": {
    "tags": []
   },
   "outputs": [],
   "source": [
    "# create the base for your customised list of stopwords\n",
    "stopwords_list = list(CountVectorizer(stop_words = 'english').get_stop_words())"
   ]
  },
  {
   "cell_type": "code",
   "execution_count": 23,
   "id": "662fc09e-79d4-43b6-9d12-6af41058e42a",
   "metadata": {
    "tags": []
   },
   "outputs": [],
   "source": [
    "# customise list of stopwords = sklearn's stopwords + top commonly occuring words derived from EDA\n",
    "# overlapping stopwords from aspergers_df and gifted_df that have limited differentiating value\n",
    "# remove giveaway words such as 'gifted', 'giftedness', 'aspergers', 'autism' that would \n",
    "# result in a biased model if included\n",
    "\n",
    "additional_stopwords = ['way', 'ive', 'much', 'want', 'make', 'also', \n",
    "                        'really', 'even', 'one', 'would', 'get', 'dont', \n",
    "                        'thing', 'know', 'gifted', 'im', 'like', 'autism', \n",
    "                        'aspergers', 'giftedness']"
   ]
  },
  {
   "cell_type": "code",
   "execution_count": 24,
   "id": "062fcb52-6028-48eb-a3d9-6d16b889b0b0",
   "metadata": {},
   "outputs": [
    {
     "data": {
      "text/plain": [
       "318"
      ]
     },
     "execution_count": 24,
     "metadata": {},
     "output_type": "execute_result"
    }
   ],
   "source": [
    "len(stopwords_list)"
   ]
  },
  {
   "cell_type": "code",
   "execution_count": 25,
   "id": "4a95110a-a51f-4719-926b-06e88c798801",
   "metadata": {},
   "outputs": [
    {
     "data": {
      "text/plain": [
       "20"
      ]
     },
     "execution_count": 25,
     "metadata": {},
     "output_type": "execute_result"
    }
   ],
   "source": [
    "len(additional_stopwords)"
   ]
  },
  {
   "cell_type": "code",
   "execution_count": 26,
   "id": "bda9339d-75a8-4269-bc31-312fcc370983",
   "metadata": {},
   "outputs": [],
   "source": [
    "# add 17 out of 25 of the most commonly occuring words\n",
    "# add 3 more giveaway stopwords 'autism', 'aspergers', 'giftedness'\n",
    "for i in additional_stopwords:\n",
    "    stopwords_list.append(i)"
   ]
  },
  {
   "cell_type": "code",
   "execution_count": 27,
   "id": "de0cdb3f-75cf-4824-a344-e18d7aae31ee",
   "metadata": {},
   "outputs": [
    {
     "data": {
      "text/plain": [
       "338"
      ]
     },
     "execution_count": 27,
     "metadata": {},
     "output_type": "execute_result"
    }
   ],
   "source": [
    "len(stopwords_list)"
   ]
  },
  {
   "cell_type": "markdown",
   "id": "add9e7e6-ed55-43d9-b9ba-91d3d7614896",
   "metadata": {},
   "source": [
    "5. Examine different hyperparameters of Vectorizer: \n",
    "- `stop_words`\n",
    "- `max_features`, `max_df`, `min_df`\n",
    "- `ngram_range`"
   ]
  },
  {
   "cell_type": "markdown",
   "id": "2b18f52a-9548-4f3c-9bc4-9e7163f949bc",
   "metadata": {},
   "source": [
    "We are going to fit two types of models: a Logistic Regression and a Naive Bayes Classifier.\n",
    "\n",
    "6. We want to attempt to fit our models on 16 combinations of hyperparameters using GridSearchCV:\n",
    "\n",
    "|vectorizer|feature count|stop words|ngram_range|\n",
    "|---|---|---|---|\n",
    "|CountVectorizer|100|Customised list of stopwords|(1,3)|\n",
    "|CountVectorizer|100|Customised list of stopwords|default| \n",
    "|CountVectorizer|100|English stopwords|(1,3)|\n",
    "|CountVectorizer|100|English stopwords|default|\n",
    "|CountVectorizer|500|Customised list of stopwords|(1,3)|\n",
    "|CountVectorizer|500|Customised list of stopwords|default|\n",
    "|CountVectorizer|500|English stopwords|(1,3)|\n",
    "|CountVectorizer|500|English stopwords|default|\n",
    "|TFIDFVectorizer|100|Customised list of stopwords|(1,3)|\n",
    "|TFIDFVectorizer|100|Customised list of stopwords|default| \n",
    "|TFIDFVectorizer|100|English stopwords|(1,3)|\n",
    "|TFIDFVectorizer|100|English stopwords|default|\n",
    "|TFIDFVectorizer|500|Customised list of stopwords|(1,3)|\n",
    "|TFIDFVectorizer|500|Customised list of stopwords|default|\n",
    "|TFIDFVectorizer|500|English stopwords|(1,3)|\n",
    "|TFIDFVectorizer|500|English stopwords|default|\n",
    "\n"
   ]
  },
  {
   "cell_type": "markdown",
   "id": "4165f0ee-a72e-4bc1-aa13-9fae2b2266ca",
   "metadata": {
    "tags": []
   },
   "source": [
    "7. Check to ensure classes are balanced. "
   ]
  },
  {
   "cell_type": "code",
   "execution_count": null,
   "id": "4480d0e9-0464-465f-b103-4be81ca797f1",
   "metadata": {
    "tags": []
   },
   "outputs": [
    {
     "data": {
      "text/plain": [
       "0    0.503132\n",
       "1    0.496868\n",
       "Name: diagnosis, dtype: float64"
      ]
     },
     "execution_count": 28,
     "metadata": {},
     "output_type": "execute_result"
    }
   ],
   "source": [
    "# naive model that predicts majority class - gifted (50.3%)\n",
    "y_test.value_counts(normalize=True)"
   ]
  },
  {
   "cell_type": "markdown",
   "id": "bf50611d-bf69-49a5-9c82-bd364b54b5b0",
   "metadata": {},
   "source": [
    "The three most common types of Naive Bayes models include:\n",
    "- `Bernoulli Naive Bayes`\n",
    "- `Multinomial Naive Bayes`\n",
    "- `Gaussian Naive Bayes`\n",
    "\n",
    "8. Fit a Naive Bayes Classifier model and compare it to the baseline. We assume that all of our features are independent of one another.\n",
    "- For features that were `CountVectorized`, the `MultinomialNB` classification model would be the most appropriate fit. We dont know that the features are going to be normally distributed and the features are not all going to be 0/1. This rules out both the GaussianNB and BernoulliNB classification models. Since the count vectorizer is taking a word count, the MultinomialNB classification model seems to be the best option.\n",
    "- For features that were `TFIDFVectorized`, the `GaussianNB` classification model would be the most appropriate fit. Since a TFIDF normalizes the data, this would be best suited for a GaussianNB classification model."
   ]
  },
  {
   "cell_type": "code",
   "execution_count": 30,
   "id": "b8229044-bb38-4ccd-baf7-b6476b5d5cb3",
   "metadata": {},
   "outputs": [],
   "source": [
    "from sklearn.naive_bayes import MultinomialNB\n",
    "from sklearn.naive_bayes import GaussianNB"
   ]
  },
  {
   "cell_type": "code",
   "execution_count": 31,
   "id": "fded73af-ec94-44ec-a1d9-93d7e7179f8e",
   "metadata": {},
   "outputs": [],
   "source": [
    "pipe1 = Pipeline([('cvec', CountVectorizer()),\n",
    "                 ('mnb', MultinomialNB())])"
   ]
  },
  {
   "cell_type": "code",
   "execution_count": 32,
   "id": "a7c7d104-c9a7-4348-9310-b70061271e0d",
   "metadata": {},
   "outputs": [
    {
     "name": "stdout",
     "output_type": "stream",
     "text": [
      "0.8467969939698873\n"
     ]
    },
    {
     "data": {
      "text/plain": [
       "{'cvec__max_features': 500,\n",
       " 'cvec__ngram_range': (1, 1),\n",
       " 'cvec__stop_words': 'english'}"
      ]
     },
     "execution_count": 32,
     "metadata": {},
     "output_type": "execute_result"
    }
   ],
   "source": [
    "pipe_params1 = {'cvec__max_features': [100, 500],\n",
    "                'cvec__ngram_range': [(1,1), (1,3)],\n",
    "                'cvec__stop_words':['english', stopwords_list]}\n",
    "\n",
    "gs1 = GridSearchCV(pipe1, param_grid=pipe_params1, cv=3) \n",
    "\n",
    "gs1.fit(X_train, y_train)\n",
    "\n",
    "print(gs1.best_score_)\n",
    "\n",
    "gs1.best_params_"
   ]
  },
  {
   "cell_type": "code",
   "execution_count": 33,
   "id": "d8dcb763-7623-4590-9957-c339dee975fb",
   "metadata": {},
   "outputs": [],
   "source": [
    "\"\"\"\"\"\n",
    "pipe2 = Pipeline([('tvec', TfidfVectorizer()),\n",
    "                 ('gnb', GaussianNB())])\n",
    "\"\"\"\"\";"
   ]
  },
  {
   "cell_type": "code",
   "execution_count": 34,
   "id": "105ee263-4bf5-4c87-a696-03ea66e018d3",
   "metadata": {
    "scrolled": true,
    "tags": []
   },
   "outputs": [],
   "source": [
    "\"\"\"\"\"\n",
    "pipe_params2 = {'tvec__max_features': [100, 500],\n",
    "                'tvec__ngram_range': [(1,1), (1,3)],\n",
    "                'tvec__stop_words':['english', stopwords_list]}\n",
    "\n",
    "gs2 = GridSearchCV(pipe4, param_grid=pipe_params2, cv=3)\n",
    "\n",
    "gs2.fit(X_train, y_train)\n",
    "\n",
    "print(gs2.best_score_)\n",
    "\n",
    "gs2.best_params_\n",
    "\"\"\"\"\";"
   ]
  },
  {
   "cell_type": "markdown",
   "id": "13c82c8b-10cf-408a-8f17-1c9d8b42862f",
   "metadata": {},
   "source": [
    "Comment: When using a pipeline that feeds from TfidfVectorizer() to GaussianNB() and I received an error stating \"TypeError: A sparse matrix was passed, but dense data is required. Use X.toarray() to convert to a dense numpy array.\" \n",
    "\n",
    "Reason: Sparse inputs are not implemented in GaussianNB as very sparse data almost certainly does not meet the assumptions of the algorithm. When the bulk of the values are zero, a simple Gaussian is not a good fit to the data, and will almost never lead to a useful classification."
   ]
  },
  {
   "cell_type": "markdown",
   "id": "194d63a4-9e55-43da-97b7-ef1d0a303789",
   "metadata": {},
   "source": [
    "9. Fit a logistic regression model and compare it to the baseline \n",
    "- A logistic regression is more informative. The logistic regression gives a measure of how relevant a predictor is (coefficient size) but also its direction of association (positive or negative)."
   ]
  },
  {
   "cell_type": "code",
   "execution_count": 35,
   "id": "59cc502a-e115-4b42-a27f-4dd4f4e10287",
   "metadata": {},
   "outputs": [],
   "source": [
    "pipe3 = Pipeline([('cvec', CountVectorizer()),\n",
    "                 ('lr', LogisticRegression())])"
   ]
  },
  {
   "cell_type": "code",
   "execution_count": 36,
   "id": "fe4c33ea-b22e-4b75-bf58-b44511f96b52",
   "metadata": {},
   "outputs": [
    {
     "name": "stdout",
     "output_type": "stream",
     "text": [
      "0.8238091910448023\n"
     ]
    },
    {
     "data": {
      "text/plain": [
       "{'cvec__max_features': 500,\n",
       " 'cvec__ngram_range': (1, 3),\n",
       " 'cvec__stop_words': 'english'}"
      ]
     },
     "execution_count": 36,
     "metadata": {},
     "output_type": "execute_result"
    }
   ],
   "source": [
    "pipe_params3 = {'cvec__max_features': [100, 500],\n",
    "                'cvec__ngram_range': [(1,1), (1,3)],\n",
    "                'cvec__stop_words':['english', stopwords_list]}\n",
    "\n",
    "gs3 = GridSearchCV(pipe3, param_grid=pipe_params3, cv=3)\n",
    "\n",
    "gs3.fit(X_train, y_train)\n",
    "\n",
    "print(gs3.best_score_)\n",
    "\n",
    "gs3.best_params_"
   ]
  },
  {
   "cell_type": "markdown",
   "id": "dd7bc8c0-86d8-4296-b052-0ea5a7a92f87",
   "metadata": {},
   "source": [
    "Comment: Word tokens are now stored as a bag-of-words. There are advantages and disadvantages to this approach when modeling. Advantages include efficiency in storage and modeling. On the other hand, bag-of-words models discard grammar, order, structure, and context. Hence we lose a decent amount of information."
   ]
  },
  {
   "cell_type": "code",
   "execution_count": 37,
   "id": "5f71f7fe-34d6-4bc5-9e02-f8b0e6c1afd3",
   "metadata": {},
   "outputs": [],
   "source": [
    "pipe4 = Pipeline([('tvec', TfidfVectorizer()),\n",
    "                 ('lr', LogisticRegression())])"
   ]
  },
  {
   "cell_type": "code",
   "execution_count": 38,
   "id": "20e3edad-aabf-48ea-97d9-d90339f68295",
   "metadata": {},
   "outputs": [
    {
     "name": "stdout",
     "output_type": "stream",
     "text": [
      "0.8572441424049989\n"
     ]
    },
    {
     "data": {
      "text/plain": [
       "{'tvec__max_features': 500,\n",
       " 'tvec__ngram_range': (1, 1),\n",
       " 'tvec__stop_words': 'english'}"
      ]
     },
     "execution_count": 38,
     "metadata": {},
     "output_type": "execute_result"
    }
   ],
   "source": [
    "pipe_params4 = {'tvec__max_features': [100, 500],\n",
    "                'tvec__ngram_range': [(1,1), (1,3)],\n",
    "                'tvec__stop_words':['english', stopwords_list]}\n",
    "\n",
    "gs4 = GridSearchCV(pipe4, param_grid=pipe_params4, cv=3)\n",
    "\n",
    "gs4.fit(X_train, y_train)\n",
    "\n",
    "print(gs4.best_score_)\n",
    "\n",
    "gs4.best_params_"
   ]
  },
  {
   "cell_type": "markdown",
   "id": "99c9333e-9971-4460-8f2c-ca4207db83d6",
   "metadata": {},
   "source": [
    "Comment: The goal of TF-IDF is to minimize the impact of words that occur frequently in a certain set of words, and that may therefore be less informative than words that occur less often. The goal of cvec is to transform the lists of words into features that we can pass into a model. TfidfVectorizer() assigns a score for the term frequency while CountVectorizer() returns a count of the number of times a word appears."
   ]
  }
 ],
 "metadata": {
  "kernelspec": {
   "display_name": "dsi-sg",
   "language": "python",
   "name": "dsi-sg"
  },
  "language_info": {
   "codemirror_mode": {
    "name": "ipython",
    "version": 3
   },
   "file_extension": ".py",
   "mimetype": "text/x-python",
   "name": "python",
   "nbconvert_exporter": "python",
   "pygments_lexer": "ipython3",
   "version": "3.9.13"
  }
 },
 "nbformat": 4,
 "nbformat_minor": 5
}
