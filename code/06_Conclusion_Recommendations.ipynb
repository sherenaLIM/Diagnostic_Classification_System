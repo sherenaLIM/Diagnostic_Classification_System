{
 "cells": [
  {
   "attachments": {},
   "cell_type": "markdown",
   "id": "a0d78c36-5463-4965-847d-e65ea94025ff",
   "metadata": {},
   "source": [
    "## Project 3: Diagnostic Classification System\n",
    "- 06 Conclusions_and_Recommendations"
   ]
  },
  {
   "cell_type": "markdown",
   "id": "bb64f0b1-6232-4ccf-af52-fde7d68c6ac1",
   "metadata": {},
   "source": [
    "#### Content\n",
    "> * [Background](#Background)\n",
    "> * [Problem Statement](#Problem-Statement) \n",
    "> * [Web Scraping and Data Cleaning](#Web-Scraping-And-Data-Cleaning)\n",
    "> * [Exploratory Data Analysis](#Exploratory-Data-Analysis)\n",
    "> * [Preprocessing and Modeling](#Preprocessing-And-Modeling)\n",
    "> * [Baseline Model Performance Evaluation](#Baseline-Model-Performance-Evaluation)\n",
    "> * [Evaluation and Conceptual Understanding](#Evaluation-And-Understanding)\n",
    "> * [Conclusion and Recommendations](#Conclusion-And-Recommendations)"
   ]
  },
  {
   "cell_type": "markdown",
   "id": "87cecf4a-0f6b-4837-82f2-e0d93bb798f5",
   "metadata": {},
   "source": [
    "---\n",
    "<a id='Background'></a>\n",
    "### Background"
   ]
  },
  {
   "cell_type": "markdown",
   "id": "2072520d-8766-4fc5-b8ed-86ce34000814",
   "metadata": {},
   "source": [
    "Research has shown that gifted children can exhibit some of the same behaviours as those on the autism spectrum. Social quirkiness is normal in bright kids as well as in those with autism. Like kids on the spectrum, gifted kids also have keen memories and a good grip on language. They can also get lost in their imaginations or think logically and critically to the extent that imagination seems far away. Both groups can also find it difficult to manage social interactions with their peers. \n",
    "\n",
    "At the same time, these are broad generalisations of behaviours. Once you dive deeper, you can see there are some salient differences. For example, a gifted child may present an extensive and advanced vocabulary with a rich verbal style. A child on the autism spectrum may have an advanced use of vocabulary, but they may not have full comprehension of the language they use. They may also have a less inviting verbal style that lacks the engagement of others. By extension, these differences can cause students with aspergers to have learning styles and needs that deviate from those of gifted students. \n",
    "\n",
    "Studies have shown that it may be possible to distinguish children on the autism spectrum from gifted children by examining their use of language. This forms the basis of Project 3. This project will address convergent and divergent aspects in communication & language between individuals with aspergers and gifted individuals."
   ]
  },
  {
   "attachments": {},
   "cell_type": "markdown",
   "id": "dd6a7fe7-ca33-4ea2-906f-a87ac3cb7d84",
   "metadata": {},
   "source": [
    "Citations: \n",
    "- Tai, J., & Goy, P. (2021). Study: 1 in 150 Children in Singapore Has Autism. The Straits Times.\n",
    "- Chen, L., Abrams, D. A., Rosenberg-Lee, M., Iuculano, T., Wakeman, H. N., Prathap, S., Chen, T., & Menon, V. (2019). Quantitative analysis of heterogeneity in academic achievement of children with autism. Clinical psychological science : a journal of the Association for Psychological Science, 7(2), 362–380. \n",
    "- Lim, P. (2018). \"Specific Language Impairment in Children with High-Functioning Autism Spectrum Disorder.\" Inquiries Journal, 10(05).\n",
    "- Aggarwal, R., Ringold, S., Khanna, D., Neogi, T., Johnson, S. R., Miller, A., Brunner, H. I., Ogawa, R., Felson, D., Ogdie, A., Aletaha, D., & Feldman, B. M. (2015). Distinctions between diagnostic and classification criteria?. Arthritis care & research, 67(7), 891–897. \n",
    "- Minshew, N. J., Goldstein, G., & Siegel, D. J. (1995). Speech and language in high-functioning autistic individuals. Neuropsychology, 9(2), 255–261."
   ]
  },
  {
   "cell_type": "markdown",
   "id": "3dd52753-eb8c-41ec-9d30-e2a452e8cb77",
   "metadata": {},
   "source": [
    "---\n",
    "<a id='Problem-Statement'></a>\n",
    "### Problem Statement"
   ]
  },
  {
   "cell_type": "markdown",
   "id": "24b49a97-a45b-40a6-bbf5-f790dd93a731",
   "metadata": {},
   "source": [
    "Context: The provision of healthcare in Singapore has become more challenging due to a couple of reasons.\n",
    "1. Shifts in the nature of diseases highlights the system’s shortfall in managing complex chronic diseases\n",
    "2. Evolution of healthcare consumer expectations\n",
    "3. Manpower shortage in public hospitals to service the burgeoning aged population\n",
    "4. Poor design of systems and operational inefficiencies lead to significant waste in Healthcare\n",
    "\n",
    "Healthcare waste is incurred any time a patient, doctor, or healthcare worker engages in unnecessary medical activity - ranging from preventable mistakes in medical care, to misdiagnoses, provision of unnecessary treatments, and procedural inconsistencies. Research has shown that up to 20% of all healthcare resource expenditures are quality-associated waste and this can amount to a staggering sum. \n",
    "\n",
    "In Singapore, part of the costs (and risks) are borne by individuals and families, while part of the costs (and risks) are accounted for by the State - borne by taxpayers, and/or private insurers. To eliminate waste, the Singapore government has come to incorporate technology into various care models to overcome the various cost- and quality-based challenges in the Healthcare sector. Most of these technologies are procured from private healthtech companies and start-ups. "
   ]
  },
  {
   "cell_type": "markdown",
   "id": "fa505809-e50a-44e7-8f2c-7995041fa4bd",
   "metadata": {
    "tags": []
   },
   "source": [
    "Citations: \n",
    "- Ooi, Low & Koh, Gerald & Tan, Lawrence & Yap, Jason & Chew, Samuel & Jih, Chin & Fung, Daniel & Sing, Lee & Lee, Patricia & Boon, Lim & Lim, Ruth & Low, James & Sachdev, Ravinder & Seah, Daren & Yeng, Siaw & Chiu, Tan & Teo, David & Tiwari, Satyaprakash & Tym, Wong & Scott, Richard. (2015). National Telemedicine Guidelines of Singapore.\n",
    "- Nakhooda, F. (2021). The Bottom Line (Healthcare): Cutting Healthcare Waste: A Win-Win for Providers, Payers, Patients. The Business Times, Opinion & Features. \n",
    "- Khalik, S. (2018). Experts Highlight Prevalence and Cost of Waste in Healthcare Expenditure. The Straits Times. "
   ]
  },
  {
   "cell_type": "markdown",
   "id": "569988d8-8ff0-4574-99fd-9137ef46e71c",
   "metadata": {
    "tags": []
   },
   "source": [
    "---\n",
    "### Task\n",
    "- What other diagnostic criteria can we extract using NLP-models to diagnose autistic and gifted children accurately?"
   ]
  },
  {
   "cell_type": "markdown",
   "id": "b5a3b7d1-0c3a-45f6-b25d-c33f7cbcc700",
   "metadata": {},
   "source": [
    "You work in the Research and Development (R&D) of a healthtech startup in Singapore. The company has been enlisted by the Ministry of Health Holdings (MOHH) to create a simple diagnostic tool to rule out specific conditions and dieseases. After the development of a differential diagnosis, this tool will be a core feature in the series of additional tests that will conducted by healthcare professionals to rule out either autism or giftedness. Healthcare professionals will be able to come to a final diagnosis that is more accurate/precise, reducing the likelihood of misdiagnosis produced by the exisiting slew of subjective tests."
   ]
  },
  {
   "cell_type": "markdown",
   "id": "7a34f733-639d-4fd2-b51d-deb939c26b20",
   "metadata": {
    "tags": []
   },
   "source": [
    "---\n",
    "<a id='Conclusion-And-Recommendations'></a>\n",
    "### Conclusion and Recommendations"
   ]
  },
  {
   "cell_type": "markdown",
   "id": "bad2eb9a-71c2-4a2d-8418-0c53bad9c842",
   "metadata": {},
   "source": [
    "- Beside maximizing the AUC-ROC curve, aim to reduce the type I (TPR) or type II (FNR) errors (misdiagnoses) which is a prominent root cause of waste in healthcare. You can do that by tuning the classification threshold to an optimal cut-off. \n",
    "- Typically, you should threshold away from 50% cut-off if: \n",
    "1. High Recall, Low Precision - 25% Threshold\n",
    "2. Low Recall, High Precision - 75% Threshold\n",
    "- Since cost-savings (elimination of waste) is the goal, you should be looking to ↑ optimal classification threshold.\n",
    "\n",
    "Note that the optimal classification threshold will differ across industries. \n",
    "> * If you are providing this technology to stakeholders in the healthcare sector looking to acheive cost-savings / minimize waste, focus on ↓ False Positive Rate (Type I Error), even if it is at the expense of ↑ False Negative Rate (Type II Error).\n",
    "> * If you are providing this technology to stakeholders in the education sector looking to acheive cost-savings / minimize waste, focus on ↑  False Positive Rate (type I Error), even if it is at the expense of ↓ False Negative Rate (Type II Error).\n",
    "\n",
    "In our case, we opt for scenario 2. "
   ]
  },
  {
   "cell_type": "markdown",
   "id": "98834ecf-51a1-4ec3-b3ae-4dd41589476f",
   "metadata": {},
   "source": [
    "Problem Statement: What other diagnostic criteria can we extract using NLP-models to create a more robust diagnosis for Asperger's?<br>\n",
    "\n",
    "Assumption: The posts in r/aspergers and r/Gifted subreddits were written by individuals who have been clinically diagnosed with Asperger's and officially tested as Gifted respectively - making up the Ground Truth.\n",
    "* Asperger's and Autism are used interchangeably in the context of this project. \n",
    "* While the posts in the r/aspergers subreddit were written in first person, and largely by individuals who have been clinically diagnosed with Autism, the same cannot be said about the posts in the r/Gifted subreddit. In the r/Gifted subreddit, moderators do not discriminate againsts posts that are written by parents who suppose their children are gifted and inividuals who suspect they are gifted. Upon further inspection in the EDA segment, there is a number of that were not written by individuals who have been officially tested as gifted, This means that the actual number of posts in the gifted_corpus should be less than the total number of posts we have scraped from the r/Gifted subreddit. If the posts that were not written by individuals who have been officially tested as gifted themselves were to be removed, there would be the issue of imbalanced classification - which can be corrected by tuning the classification threshold. \n",
    "\n",
    "Key Takeaways\n",
    "- Based on existing research, a gifted child may present an extensive and advanced vocabulary with a rich verbal style. On the other hand, a child on the autism spectrum may have an advanced use of vocabulary, but they may not have full comprehension of the language they use. They may also have a less inviting verbal style that lacks the engagement of others. \n",
    "- Additional differences gleaned from the NLP-task include:\n",
    "> 1. Individuals who have been clinically diagnosed with Asperger's can be preoccupied with social skills in life and at work. They tend to have special interests that they fixate on. \n",
    "> 2. Gifted individuals who have been tested as gifted can be concerned over the neglect of their spatial ability. They tend to value justice as well."
   ]
  },
  {
   "cell_type": "markdown",
   "id": "282e2d42-d030-41c0-a22d-4ae187388eb5",
   "metadata": {},
   "source": [
    "---\n",
    "### Limitations of the Model\n",
    "1. This model is unable to classify or account for individuals with dual diagnoses. The solution could be to create a multiclass classifier instead.\n",
    "<br> \n",
    "2. Most of the posts seem to be based in other geographical regions, hence they might not be representative of the Asperger's and Gifted communities in Singapore. \n",
    "<br>\n",
    "3. While in the aspergers subreddit, the posts were mostly written by individuals who have been clinically diagnosed with autism, we can see that in the gifted subreddit, even though the posts were written in first person, they were not all written by individuals who have been tested as gifted. There were many parents on the subreddit who suspect their children might be gifted, and or even individuals who suspect they are gifted themselves – hence the corpous might be biased as the posts from the gifted subreddit are not truly written by gifted individuals. But for the sake of the project, we assume they are. Posts in gifted forum, many of them are written by parents, and individuals who are self-diagnosed (not accurate) , advice from parents who suspects their children are gifted – moderators might want to be more stringent with the rules.\n",
    "<br>\n",
    "4. The Area Under Curve is currently 0.94. There is still overlapping regions representing false positive and false negatives classifications. More can be done in the data cleaning stage to inprove the AUC-ROC score. Regularization can be used to reduce the weights of the less important key words and increase the weights of the key words which are more salient.\n",
    "<br>\n",
    "5. Logistic Regression model, TFIDF vectorizer - using LIME to explain the coefficients and weights of the individual text features.\n",
    "<br>\n",
    "6. Consider adding other quantitative features. "
   ]
  }
 ],
 "metadata": {
  "kernelspec": {
   "display_name": "dsi-sg",
   "language": "python",
   "name": "dsi-sg"
  },
  "language_info": {
   "codemirror_mode": {
    "name": "ipython",
    "version": 3
   },
   "file_extension": ".py",
   "mimetype": "text/x-python",
   "name": "python",
   "nbconvert_exporter": "python",
   "pygments_lexer": "ipython3",
   "version": "3.9.13"
  }
 },
 "nbformat": 4,
 "nbformat_minor": 5
}
