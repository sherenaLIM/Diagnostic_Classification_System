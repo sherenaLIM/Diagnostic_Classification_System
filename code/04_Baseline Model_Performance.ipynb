{
 "cells": [
  {
   "attachments": {},
   "cell_type": "markdown",
   "id": "d2a8ed7c-0a62-4fc0-ba29-e90d585373f0",
   "metadata": {},
   "source": [
    "## Project 3: Diagnostic Classification System\n",
    "- 04 Baseline_Model_Performance"
   ]
  },
  {
   "cell_type": "markdown",
   "id": "c4ac068e-87ab-4576-8295-7e818f832f53",
   "metadata": {},
   "source": [
    "#### Content\n",
    "> * [Background](#Background)\n",
    "> * [Problem Statement](#Problem-Statement) \n",
    "> * [Web Scraping and Data Cleaning](#Web-Scraping-And-Data-Cleaning)\n",
    "> * [Exploratory Data Analysis](#Exploratory-Data-Analysis)\n",
    "> * [Preprocessing and Modeling](#Preprocessing-And-Modeling)\n",
    "> * [Baseline Model Performance Evaluation](#Baseline-Model-Performance-Evaluation)\n",
    "> * [Evaluation and Conceptual Understanding](#Evaluation-And-Understanding)\n",
    "> * [Conclusion and Recommendations](#Conclusion-And-Recommendations)"
   ]
  },
  {
   "cell_type": "markdown",
   "id": "d9456f8d-2915-4812-8998-a82e8bc9e981",
   "metadata": {},
   "source": [
    "---\n",
    "<a id='Background'></a>\n",
    "### Background"
   ]
  },
  {
   "cell_type": "markdown",
   "id": "9b5825b2-9135-49d5-adde-7deb08424e1c",
   "metadata": {},
   "source": [
    "Research has shown that gifted children can exhibit some of the same behaviours as those on the autism spectrum. Social quirkiness is normal in bright kids as well as in those with autism. Like kids on the spectrum, gifted kids also have keen memories and a good grip on language. They can also get lost in their imaginations or think logically and critically to the extent that imagination seems far away. Both groups can also find it difficult to manage social interactions with their peers. \n",
    "\n",
    "At the same time, these are broad generalisations of behaviours. Once you dive deeper, you can see there are some salient differences. For example, a gifted child may present an extensive and advanced vocabulary with a rich verbal style. A child on the autism spectrum may have an advanced use of vocabulary, but they may not have full comprehension of the language they use. They may also have a less inviting verbal style that lacks the engagement of others. By extension, these differences can cause students with aspergers to have learning styles and needs that deviate from those of gifted students. \n",
    "\n",
    "Studies have shown that it may be possible to distinguish children on the autism spectrum from gifted children by examining their use of language. This forms the basis of Project 3. This project will address convergent and divergent aspects in communication & language between individuals with aspergers and gifted individuals."
   ]
  },
  {
   "cell_type": "markdown",
   "id": "087a336b-4cdd-4711-b1e0-01e9ac0d8186",
   "metadata": {},
   "source": [
    "Citations: \n",
    "- Tai, J., & Goy, P. (2021). Study: 1 in 150 Children in Singapore Has Autism. The Straits Times.\n",
    "- Chen, L., Abrams, D. A., Rosenberg-Lee, M., Iuculano, T., Wakeman, H. N., Prathap, S., Chen, T., & Menon, V. (2019). Quantitative analysis of heterogeneity in academic achievement of children with autism. Clinical psychological science : a journal of the Association for Psychological Science, 7(2), 362–380. \n",
    "- Lim, P. (2018). \"Specific Language Impairment in Children with High-Functioning Autism Spectrum Disorder.\" Inquiries Journal, 10(05).\n",
    "- Minshew, N. J., Goldstein, G., & Siegel, D. J. (1995). Speech and language in high-functioning autistic individuals. Neuropsychology, 9(2), 255–261."
   ]
  },
  {
   "cell_type": "markdown",
   "id": "96706bf2-0ad5-4c08-b55d-f5d2ecc5afdb",
   "metadata": {},
   "source": [
    "---\n",
    "<a id='Problem-Statement'></a>\n",
    "### Problem Statement"
   ]
  },
  {
   "cell_type": "markdown",
   "id": "28c7ffd9-d9fb-4cd4-9346-56dfdc6fb373",
   "metadata": {},
   "source": [
    "Context: The provision of healthcare in Singapore has become more challenging due to a couple of reasons.\n",
    "1. Shifts in the nature of diseases highlights the system’s shortfall in managing complex chronic diseases\n",
    "2. Evolution of healthcare consumer expectations\n",
    "3. Manpower shortage in public hospitals to service the burgeoning aged population\n",
    "4. Poor design of systems and operational inefficiencies lead to significant waste in Healthcare\n",
    "\n",
    "Healthcare waste is incurred any time a patient, doctor, or healthcare worker engages in unnecessary medical activity - ranging from preventable mistakes in medical care, to misdiagnoses, provision of unnecessary treatments, and procedural inconsistencies. Research has shown that up to 20% of all healthcare resource expenditures are quality-associated waste and this can amount to a staggering sum. \n",
    "\n",
    "In Singapore, part of the costs (and risks) are borne by individuals and families, while part of the costs (and risks) are accounted for by the State - borne by taxpayers, and/or private insurers. To eliminate waste, the Singapore government has come to incorporate technology into various care models to overcome the various cost- and quality-based challenges in the Healthcare sector. Most of these technologies are procured from private healthtech companies and start-ups. "
   ]
  },
  {
   "attachments": {},
   "cell_type": "markdown",
   "id": "ad8acf94-f4f0-4b35-a234-034fe3ed609e",
   "metadata": {
    "tags": []
   },
   "source": [
    "Citations: \n",
    "- Ooi, Low & Koh, Gerald & Tan, Lawrence & Yap, Jason & Chew, Samuel & Jih, Chin & Fung, Daniel & Sing, Lee & Lee, Patricia & Boon, Lim & Lim, Ruth & Low, James & Sachdev, Ravinder & Seah, Daren & Yeng, Siaw & Chiu, Tan & Teo, David & Tiwari, Satyaprakash & Tym, Wong & Scott, Richard. (2015). National Telemedicine Guidelines of Singapore.\n",
    "- Nakhooda, F. (2021). The Bottom Line (Healthcare): Cutting Healthcare Waste: A Win-Win for Providers, Payers, Patients. The Business Times, Opinion & Features. \n",
    "- Khalik, S. (2018). Experts Highlight Prevalence and Cost of Waste in Healthcare Expenditure. The Straits Times. \n",
    "- Aggarwal, R., Ringold, S., Khanna, D., Neogi, T., Johnson, S. R., Miller, A., Brunner, H. I., Ogawa, R., Felson, D., Ogdie, A., Aletaha, D., & Feldman, B. M. (2015). Distinctions between diagnostic and classification criteria?. Arthritis care & research, 67(7), 891–897. "
   ]
  },
  {
   "cell_type": "markdown",
   "id": "7d9a0d01-d69a-46a9-95bd-34c26d152079",
   "metadata": {
    "tags": []
   },
   "source": [
    "---\n",
    "### Task\n",
    "- What other diagnostic criteria can we extract using NLP-models to diagnose autistic and gifted children accurately?"
   ]
  },
  {
   "cell_type": "markdown",
   "id": "4a1fe3da-4dd6-4bec-bf75-1a5bc7265bc0",
   "metadata": {},
   "source": [
    "You work in the Research and Development (R&D) of a healthtech startup in Singapore. The company has been enlisted by the Ministry of Health Holdings (MOHH) to create a simple diagnostic tool to rule out specific conditions and dieseases. After the development of a differential diagnosis, this tool will be a core feature in the series of additional tests that will conducted by healthcare professionals to rule out either autism or giftedness. Healthcare professionals will be able to come to a final diagnosis that is more accurate/precise, reducing the likelihood of misdiagnosis produced by the exisiting slew of subjective tests."
   ]
  },
  {
   "cell_type": "markdown",
   "id": "810e9ee1-774e-45aa-a900-7538797dc60c",
   "metadata": {},
   "source": [
    "Load Packages."
   ]
  },
  {
   "cell_type": "code",
   "execution_count": 1,
   "id": "0f89fd4b-3a4d-4412-b834-8c372e3877e0",
   "metadata": {},
   "outputs": [],
   "source": [
    "import random\n",
    "import pandas as pd\n",
    "from pandas import DataFrame\n",
    "import numpy as np\n",
    "import seaborn as sns\n",
    "import matplotlib.pyplot as plt\n",
    "from sklearn.feature_extraction.text import CountVectorizer, TfidfVectorizer\n",
    "from sklearn.pipeline import Pipeline\n",
    "from sklearn.model_selection import train_test_split, GridSearchCV\n",
    "from sklearn.linear_model import LogisticRegression\n",
    "from nltk.corpus import stopwords"
   ]
  },
  {
   "cell_type": "code",
   "execution_count": 2,
   "id": "84efd1d2-ed23-4ebe-89ed-926d5b3b4485",
   "metadata": {},
   "outputs": [],
   "source": [
    "pd.set_option('display.max_rows', None)\n",
    "pd.set_option('display.max_columns', None)\n",
    "pd.set_option('display.max_colwidth', None)"
   ]
  },
  {
   "cell_type": "markdown",
   "id": "42929580-5b9d-4e4d-b225-9ad45080ca12",
   "metadata": {},
   "source": [
    "Import Data."
   ]
  },
  {
   "cell_type": "code",
   "execution_count": 3,
   "id": "be25c753-203c-4ff7-bd76-7ff7b68d838b",
   "metadata": {},
   "outputs": [],
   "source": [
    "# import df\n",
    "df = pd.read_csv('../data/df.csv', low_memory=False)"
   ]
  },
  {
   "cell_type": "code",
   "execution_count": 4,
   "id": "78ac5fed-96bb-4e9b-bd8c-83803b1be8ea",
   "metadata": {},
   "outputs": [
    {
     "data": {
      "text/html": [
       "<div>\n",
       "<style scoped>\n",
       "    .dataframe tbody tr th:only-of-type {\n",
       "        vertical-align: middle;\n",
       "    }\n",
       "\n",
       "    .dataframe tbody tr th {\n",
       "        vertical-align: top;\n",
       "    }\n",
       "\n",
       "    .dataframe thead th {\n",
       "        text-align: right;\n",
       "    }\n",
       "</style>\n",
       "<table border=\"1\" class=\"dataframe\">\n",
       "  <thead>\n",
       "    <tr style=\"text-align: right;\">\n",
       "      <th></th>\n",
       "      <th>text_feature</th>\n",
       "      <th>diagnosis</th>\n",
       "    </tr>\n",
       "  </thead>\n",
       "  <tbody>\n",
       "    <tr>\n",
       "      <th>0</th>\n",
       "      <td>How's your week going so far? Weekly post #264 [Here's last week's thread](https://old.reddit.com/r/aspergers/comments/11g6v1j/hows_your_week_going_so_far_weekly_post_263/)\\n\\nSuggestions are ALWAYS welcome on how to improve the threads I post at any time. After all, I do this because the community wants these threads to exist, and I take the time out of my day (every Thursday and Saturday) to post the weekly threads, to ensure the community gets what it feels it needs.\\n\\n**So, continuing with the theme... /r/aspergers, How is your week going so far?** :)</td>\n",
       "      <td>1</td>\n",
       "    </tr>\n",
       "    <tr>\n",
       "      <th>1</th>\n",
       "      <td>Solitude Project Saturday: What projects are you working on that pertain to your (special) interests? Weekly post #264 [Here's last week's Solitude Project Saturday](https://old.reddit.com/r/aspergers/comments/11i5qdt/solitude_project_saturday_what_projects_are_you/)\\n\\n**So, /r/aspergers, what projects do you have on the go right now? Any ideas on the backburner for one reason or another? Any ideas just in the planning phase?** Even if you are working on them with someone else, they still apply here. If you can mention the interest that you have that relates to the project, that would be great; it may help others.</td>\n",
       "      <td>1</td>\n",
       "    </tr>\n",
       "    <tr>\n",
       "      <th>2</th>\n",
       "      <td>I need to prepare both mentally and physically for a long time just to go on a casual outing. Can you relate? The only time I agree to go out with people is when I have been given a lot of notice. Even if it’s just a casual outing that seems like nbd to most people. \\n\\nFor example I am going with my SO to his friends house for a dink in a few days and I can’t stop thinking about it. What am I going to wear? How will I respond if they ask me this question or that question? I prepare to meet friends like I’m preparing to go for an interview (don’t even get me started about how I prepare for an actual interview) I feel this is not normal. I’m new to this sub.\\n\\nAlso, if I run into someone spontaneously like someone visits without telling me or I see someone out and about or my husband forgets to tell me that someone’s coming by - I am a completely different person, like I don’t know how to socialize and I am so awkward. I’ve even hidden in the bathroom or bedroom a few times and told my husband to say I’m not home. I feel horrible and like I am so fucked up for this. If I’m forced to interact I feel like they think I’m a completely different person from when I have had time to prepare</td>\n",
       "      <td>1</td>\n",
       "    </tr>\n",
       "  </tbody>\n",
       "</table>\n",
       "</div>"
      ],
      "text/plain": [
       "                                                                                                                                                                                                                                                                                                                                                                                                                                                                                                                                                                                                                                                                                                                                                                                                                                                                                                                                                                                                                                                                                                                                                                                                                                         text_feature  \\\n",
       "0                                                                                                                                                                                                                                                                                                                                                                                                                                                                                                                                                                                                                                                                  How's your week going so far? Weekly post #264 [Here's last week's thread](https://old.reddit.com/r/aspergers/comments/11g6v1j/hows_your_week_going_so_far_weekly_post_263/)\\n\\nSuggestions are ALWAYS welcome on how to improve the threads I post at any time. After all, I do this because the community wants these threads to exist, and I take the time out of my day (every Thursday and Saturday) to post the weekly threads, to ensure the community gets what it feels it needs.\\n\\n**So, continuing with the theme... /r/aspergers, How is your week going so far?** :)   \n",
       "1                                                                                                                                                                                                                                                                                                                                                                                                                                                                                                                                                                                                      Solitude Project Saturday: What projects are you working on that pertain to your (special) interests? Weekly post #264 [Here's last week's Solitude Project Saturday](https://old.reddit.com/r/aspergers/comments/11i5qdt/solitude_project_saturday_what_projects_are_you/)\\n\\n**So, /r/aspergers, what projects do you have on the go right now? Any ideas on the backburner for one reason or another? Any ideas just in the planning phase?** Even if you are working on them with someone else, they still apply here. If you can mention the interest that you have that relates to the project, that would be great; it may help others.   \n",
       "2  I need to prepare both mentally and physically for a long time just to go on a casual outing. Can you relate? The only time I agree to go out with people is when I have been given a lot of notice. Even if it’s just a casual outing that seems like nbd to most people. \\n\\nFor example I am going with my SO to his friends house for a dink in a few days and I can’t stop thinking about it. What am I going to wear? How will I respond if they ask me this question or that question? I prepare to meet friends like I’m preparing to go for an interview (don’t even get me started about how I prepare for an actual interview) I feel this is not normal. I’m new to this sub.\\n\\nAlso, if I run into someone spontaneously like someone visits without telling me or I see someone out and about or my husband forgets to tell me that someone’s coming by - I am a completely different person, like I don’t know how to socialize and I am so awkward. I’ve even hidden in the bathroom or bedroom a few times and told my husband to say I’m not home. I feel horrible and like I am so fucked up for this. If I’m forced to interact I feel like they think I’m a completely different person from when I have had time to prepare   \n",
       "\n",
       "   diagnosis  \n",
       "0          1  \n",
       "1          1  \n",
       "2          1  "
      ]
     },
     "execution_count": 4,
     "metadata": {},
     "output_type": "execute_result"
    }
   ],
   "source": [
    "df.head(3)"
   ]
  },
  {
   "cell_type": "code",
   "execution_count": 5,
   "id": "43523a43-faf3-4fad-b414-b16a838222d1",
   "metadata": {},
   "outputs": [
    {
     "data": {
      "text/plain": [
       "text_feature    0\n",
       "diagnosis       0\n",
       "dtype: int64"
      ]
     },
     "execution_count": 5,
     "metadata": {},
     "output_type": "execute_result"
    }
   ],
   "source": [
    "df.isnull().sum()"
   ]
  },
  {
   "cell_type": "markdown",
   "id": "8e315ba0-1c21-4fbe-969e-82715f120df5",
   "metadata": {},
   "source": [
    "Preprocess the data."
   ]
  },
  {
   "cell_type": "code",
   "execution_count": 6,
   "id": "b9000990-d021-48e4-9d36-33a884e56907",
   "metadata": {
    "tags": []
   },
   "outputs": [],
   "source": [
    "# remove capitalisation\n",
    "# remove punctuation\n",
    "# remove non-roman characters\n",
    "# remove new lines \n",
    "import re\n",
    "import string\n",
    "def clean_text(text):\n",
    "    # convert text to lowercase\n",
    "    text = text.lower()\n",
    "    # remove punctuation\n",
    "    text = re.sub(\"[%s]\" % re.escape(string.punctuation), \"\", text)\n",
    "    # remove non-Roman characters\n",
    "    text = re.sub(\"([^\\x00-\\x7F])+\", \" \", text)\n",
    "    # remove new lines from the text\n",
    "    text = text.replace('\\n', '')\n",
    "    \n",
    "    return text\n",
    "df[\"text_clean\"] = df[\"text_feature\"].map(lambda x: clean_text(x))"
   ]
  },
  {
   "cell_type": "markdown",
   "id": "75590f43-ca11-4498-a31e-9e9c8f41b0d6",
   "metadata": {},
   "source": [
    "Stopword removal. Add stopwords derived from EDA. "
   ]
  },
  {
   "cell_type": "code",
   "execution_count": 7,
   "id": "58a12547-728e-42e0-89f0-5e3d0a351eff",
   "metadata": {},
   "outputs": [
    {
     "name": "stdout",
     "output_type": "stream",
     "text": [
      "['i', 'me', 'my', 'myself', 'we', 'our', 'ours', 'ourselves', 'you', \"you're\", \"you've\", \"you'll\", \"you'd\", 'your', 'yours', 'yourself', 'yourselves', 'he', 'him', 'his', 'himself', 'she', \"she's\", 'her', 'hers', 'herself', 'it', \"it's\", 'its', 'itself', 'they', 'them', 'their', 'theirs', 'themselves', 'what', 'which', 'who', 'whom', 'this', 'that', \"that'll\", 'these', 'those', 'am', 'is', 'are', 'was', 'were', 'be', 'been', 'being', 'have', 'has', 'had', 'having', 'do', 'does', 'did', 'doing', 'a', 'an', 'the', 'and', 'but', 'if', 'or', 'because', 'as', 'until', 'while', 'of', 'at', 'by', 'for', 'with', 'about', 'against', 'between', 'into', 'through', 'during', 'before', 'after', 'above', 'below', 'to', 'from', 'up', 'down', 'in', 'out', 'on', 'off', 'over', 'under', 'again', 'further', 'then', 'once', 'here', 'there', 'when', 'where', 'why', 'how', 'all', 'any', 'both', 'each', 'few', 'more', 'most', 'other', 'some', 'such', 'no', 'nor', 'not', 'only', 'own', 'same', 'so', 'than', 'too', 'very', 's', 't', 'can', 'will', 'just', 'don', \"don't\", 'should', \"should've\", 'now', 'd', 'll', 'm', 'o', 're', 've', 'y', 'ain', 'aren', \"aren't\", 'couldn', \"couldn't\", 'didn', \"didn't\", 'doesn', \"doesn't\", 'hadn', \"hadn't\", 'hasn', \"hasn't\", 'haven', \"haven't\", 'isn', \"isn't\", 'ma', 'mightn', \"mightn't\", 'mustn', \"mustn't\", 'needn', \"needn't\", 'shan', \"shan't\", 'shouldn', \"shouldn't\", 'wasn', \"wasn't\", 'weren', \"weren't\", 'won', \"won't\", 'wouldn', \"wouldn't\"]\n"
     ]
    }
   ],
   "source": [
    "# print English stopwords that have been filtered out previously. \n",
    "print(stopwords.words(\"english\"))"
   ]
  },
  {
   "cell_type": "code",
   "execution_count": 8,
   "id": "516f69d0-e38c-48ac-bda7-8856b6c99ced",
   "metadata": {
    "tags": []
   },
   "outputs": [],
   "source": [
    "# call up list of stopwords\n",
    "stop_words = set(stopwords.words(\"english\"))"
   ]
  },
  {
   "cell_type": "code",
   "execution_count": 9,
   "id": "c4b08fd1-4c93-4fa0-b345-1048ee275dee",
   "metadata": {},
   "outputs": [],
   "source": [
    "# create a new column name corpus\n",
    "df['no_stop_words'] = ' '"
   ]
  },
  {
   "cell_type": "code",
   "execution_count": 10,
   "id": "a637eb35-5a5f-4228-8e3e-24869c38b558",
   "metadata": {},
   "outputs": [],
   "source": [
    "# Exclude stopwords with Python's list comprehension and pandas.DataFrame.apply.\n",
    "df['no_stop_words'] = df['text_clean'].apply(lambda x: [word for word in x.split() if word not in (stop_words)])"
   ]
  },
  {
   "cell_type": "code",
   "execution_count": 11,
   "id": "e46e8a1c-24c7-410a-994d-53e5c6b281e1",
   "metadata": {
    "scrolled": true,
    "tags": []
   },
   "outputs": [
    {
     "data": {
      "text/html": [
       "<div>\n",
       "<style scoped>\n",
       "    .dataframe tbody tr th:only-of-type {\n",
       "        vertical-align: middle;\n",
       "    }\n",
       "\n",
       "    .dataframe tbody tr th {\n",
       "        vertical-align: top;\n",
       "    }\n",
       "\n",
       "    .dataframe thead th {\n",
       "        text-align: right;\n",
       "    }\n",
       "</style>\n",
       "<table border=\"1\" class=\"dataframe\">\n",
       "  <thead>\n",
       "    <tr style=\"text-align: right;\">\n",
       "      <th></th>\n",
       "      <th>text_feature</th>\n",
       "      <th>diagnosis</th>\n",
       "      <th>text_clean</th>\n",
       "      <th>no_stop_words</th>\n",
       "    </tr>\n",
       "  </thead>\n",
       "  <tbody>\n",
       "    <tr>\n",
       "      <th>0</th>\n",
       "      <td>How's your week going so far? Weekly post #264 [Here's last week's thread](https://old.reddit.com/r/aspergers/comments/11g6v1j/hows_your_week_going_so_far_weekly_post_263/)\\n\\nSuggestions are ALWAYS welcome on how to improve the threads I post at any time. After all, I do this because the community wants these threads to exist, and I take the time out of my day (every Thursday and Saturday) to post the weekly threads, to ensure the community gets what it feels it needs.\\n\\n**So, continuing with the theme... /r/aspergers, How is your week going so far?** :)</td>\n",
       "      <td>1</td>\n",
       "      <td>hows your week going so far weekly post 264 heres last weeks threadhttpsoldredditcomraspergerscomments11g6v1jhowsyourweekgoingsofarweeklypost263suggestions are always welcome on how to improve the threads i post at any time after all i do this because the community wants these threads to exist and i take the time out of my day every thursday and saturday to post the weekly threads to ensure the community gets what it feels it needsso continuing with the theme raspergers how is your week going so far</td>\n",
       "      <td>[hows, week, going, far, weekly, post, 264, heres, last, weeks, threadhttpsoldredditcomraspergerscomments11g6v1jhowsyourweekgoingsofarweeklypost263suggestions, always, welcome, improve, threads, post, time, community, wants, threads, exist, take, time, day, every, thursday, saturday, post, weekly, threads, ensure, community, gets, feels, needsso, continuing, theme, raspergers, week, going, far]</td>\n",
       "    </tr>\n",
       "    <tr>\n",
       "      <th>1</th>\n",
       "      <td>Solitude Project Saturday: What projects are you working on that pertain to your (special) interests? Weekly post #264 [Here's last week's Solitude Project Saturday](https://old.reddit.com/r/aspergers/comments/11i5qdt/solitude_project_saturday_what_projects_are_you/)\\n\\n**So, /r/aspergers, what projects do you have on the go right now? Any ideas on the backburner for one reason or another? Any ideas just in the planning phase?** Even if you are working on them with someone else, they still apply here. If you can mention the interest that you have that relates to the project, that would be great; it may help others.</td>\n",
       "      <td>1</td>\n",
       "      <td>solitude project saturday what projects are you working on that pertain to your special interests weekly post 264 heres last weeks solitude project saturdayhttpsoldredditcomraspergerscomments11i5qdtsolitudeprojectsaturdaywhatprojectsareyouso raspergers what projects do you have on the go right now any ideas on the backburner for one reason or another any ideas just in the planning phase even if you are working on them with someone else they still apply here if you can mention the interest that you have that relates to the project that would be great it may help others</td>\n",
       "      <td>[solitude, project, saturday, projects, working, pertain, special, interests, weekly, post, 264, heres, last, weeks, solitude, project, saturdayhttpsoldredditcomraspergerscomments11i5qdtsolitudeprojectsaturdaywhatprojectsareyouso, raspergers, projects, go, right, ideas, backburner, one, reason, another, ideas, planning, phase, even, working, someone, else, still, apply, mention, interest, relates, project, would, great, may, help, others]</td>\n",
       "    </tr>\n",
       "    <tr>\n",
       "      <th>2</th>\n",
       "      <td>I need to prepare both mentally and physically for a long time just to go on a casual outing. Can you relate? The only time I agree to go out with people is when I have been given a lot of notice. Even if it’s just a casual outing that seems like nbd to most people. \\n\\nFor example I am going with my SO to his friends house for a dink in a few days and I can’t stop thinking about it. What am I going to wear? How will I respond if they ask me this question or that question? I prepare to meet friends like I’m preparing to go for an interview (don’t even get me started about how I prepare for an actual interview) I feel this is not normal. I’m new to this sub.\\n\\nAlso, if I run into someone spontaneously like someone visits without telling me or I see someone out and about or my husband forgets to tell me that someone’s coming by - I am a completely different person, like I don’t know how to socialize and I am so awkward. I’ve even hidden in the bathroom or bedroom a few times and told my husband to say I’m not home. I feel horrible and like I am so fucked up for this. If I’m forced to interact I feel like they think I’m a completely different person from when I have had time to prepare</td>\n",
       "      <td>1</td>\n",
       "      <td>i need to prepare both mentally and physically for a long time just to go on a casual outing can you relate the only time i agree to go out with people is when i have been given a lot of notice even if it s just a casual outing that seems like nbd to most people for example i am going with my so to his friends house for a dink in a few days and i can t stop thinking about it what am i going to wear how will i respond if they ask me this question or that question i prepare to meet friends like i m preparing to go for an interview don t even get me started about how i prepare for an actual interview i feel this is not normal i m new to this subalso if i run into someone spontaneously like someone visits without telling me or i see someone out and about or my husband forgets to tell me that someone s coming by  i am a completely different person like i don t know how to socialize and i am so awkward i ve even hidden in the bathroom or bedroom a few times and told my husband to say i m not home i feel horrible and like i am so fucked up for this if i m forced to interact i feel like they think i m a completely different person from when i have had time to prepare</td>\n",
       "      <td>[need, prepare, mentally, physically, long, time, go, casual, outing, relate, time, agree, go, people, given, lot, notice, even, casual, outing, seems, like, nbd, people, example, going, friends, house, dink, days, stop, thinking, going, wear, respond, ask, question, question, prepare, meet, friends, like, preparing, go, interview, even, get, started, prepare, actual, interview, feel, normal, new, subalso, run, someone, spontaneously, like, someone, visits, without, telling, see, someone, husband, forgets, tell, someone, coming, completely, different, person, like, know, socialize, awkward, even, hidden, bathroom, bedroom, times, told, husband, say, home, feel, horrible, like, fucked, forced, interact, feel, like, think, completely, different, person, time, prepare]</td>\n",
       "    </tr>\n",
       "  </tbody>\n",
       "</table>\n",
       "</div>"
      ],
      "text/plain": [
       "                                                                                                                                                                                                                                                                                                                                                                                                                                                                                                                                                                                                                                                                                                                                                                                                                                                                                                                                                                                                                                                                                                                                                                                                                                         text_feature  \\\n",
       "0                                                                                                                                                                                                                                                                                                                                                                                                                                                                                                                                                                                                                                                                  How's your week going so far? Weekly post #264 [Here's last week's thread](https://old.reddit.com/r/aspergers/comments/11g6v1j/hows_your_week_going_so_far_weekly_post_263/)\\n\\nSuggestions are ALWAYS welcome on how to improve the threads I post at any time. After all, I do this because the community wants these threads to exist, and I take the time out of my day (every Thursday and Saturday) to post the weekly threads, to ensure the community gets what it feels it needs.\\n\\n**So, continuing with the theme... /r/aspergers, How is your week going so far?** :)   \n",
       "1                                                                                                                                                                                                                                                                                                                                                                                                                                                                                                                                                                                                      Solitude Project Saturday: What projects are you working on that pertain to your (special) interests? Weekly post #264 [Here's last week's Solitude Project Saturday](https://old.reddit.com/r/aspergers/comments/11i5qdt/solitude_project_saturday_what_projects_are_you/)\\n\\n**So, /r/aspergers, what projects do you have on the go right now? Any ideas on the backburner for one reason or another? Any ideas just in the planning phase?** Even if you are working on them with someone else, they still apply here. If you can mention the interest that you have that relates to the project, that would be great; it may help others.   \n",
       "2  I need to prepare both mentally and physically for a long time just to go on a casual outing. Can you relate? The only time I agree to go out with people is when I have been given a lot of notice. Even if it’s just a casual outing that seems like nbd to most people. \\n\\nFor example I am going with my SO to his friends house for a dink in a few days and I can’t stop thinking about it. What am I going to wear? How will I respond if they ask me this question or that question? I prepare to meet friends like I’m preparing to go for an interview (don’t even get me started about how I prepare for an actual interview) I feel this is not normal. I’m new to this sub.\\n\\nAlso, if I run into someone spontaneously like someone visits without telling me or I see someone out and about or my husband forgets to tell me that someone’s coming by - I am a completely different person, like I don’t know how to socialize and I am so awkward. I’ve even hidden in the bathroom or bedroom a few times and told my husband to say I’m not home. I feel horrible and like I am so fucked up for this. If I’m forced to interact I feel like they think I’m a completely different person from when I have had time to prepare   \n",
       "\n",
       "   diagnosis  \\\n",
       "0          1   \n",
       "1          1   \n",
       "2          1   \n",
       "\n",
       "                                                                                                                                                                                                                                                                                                                                                                                                                                                                                                                                                                                                                                                                                                                                                                                                                                                                                                                                                                                                                                                                                                                                                                                                                  text_clean  \\\n",
       "0                                                                                                                                                                                                                                                                                                                                                                                                                                                                                                                                                                                                                                                                                                  hows your week going so far weekly post 264 heres last weeks threadhttpsoldredditcomraspergerscomments11g6v1jhowsyourweekgoingsofarweeklypost263suggestions are always welcome on how to improve the threads i post at any time after all i do this because the community wants these threads to exist and i take the time out of my day every thursday and saturday to post the weekly threads to ensure the community gets what it feels it needsso continuing with the theme raspergers how is your week going so far    \n",
       "1                                                                                                                                                                                                                                                                                                                                                                                                                                                                                                                                                                                                                             solitude project saturday what projects are you working on that pertain to your special interests weekly post 264 heres last weeks solitude project saturdayhttpsoldredditcomraspergerscomments11i5qdtsolitudeprojectsaturdaywhatprojectsareyouso raspergers what projects do you have on the go right now any ideas on the backburner for one reason or another any ideas just in the planning phase even if you are working on them with someone else they still apply here if you can mention the interest that you have that relates to the project that would be great it may help others   \n",
       "2  i need to prepare both mentally and physically for a long time just to go on a casual outing can you relate the only time i agree to go out with people is when i have been given a lot of notice even if it s just a casual outing that seems like nbd to most people for example i am going with my so to his friends house for a dink in a few days and i can t stop thinking about it what am i going to wear how will i respond if they ask me this question or that question i prepare to meet friends like i m preparing to go for an interview don t even get me started about how i prepare for an actual interview i feel this is not normal i m new to this subalso if i run into someone spontaneously like someone visits without telling me or i see someone out and about or my husband forgets to tell me that someone s coming by  i am a completely different person like i don t know how to socialize and i am so awkward i ve even hidden in the bathroom or bedroom a few times and told my husband to say i m not home i feel horrible and like i am so fucked up for this if i m forced to interact i feel like they think i m a completely different person from when i have had time to prepare   \n",
       "\n",
       "                                                                                                                                                                                                                                                                                                                                                                                                                                                                                                                                                                                                                                                                                                                                                                                              no_stop_words  \n",
       "0                                                                                                                                                                                                                                                                                                                                                                                             [hows, week, going, far, weekly, post, 264, heres, last, weeks, threadhttpsoldredditcomraspergerscomments11g6v1jhowsyourweekgoingsofarweeklypost263suggestions, always, welcome, improve, threads, post, time, community, wants, threads, exist, take, time, day, every, thursday, saturday, post, weekly, threads, ensure, community, gets, feels, needsso, continuing, theme, raspergers, week, going, far]  \n",
       "1                                                                                                                                                                                                                                                                                                                                                [solitude, project, saturday, projects, working, pertain, special, interests, weekly, post, 264, heres, last, weeks, solitude, project, saturdayhttpsoldredditcomraspergerscomments11i5qdtsolitudeprojectsaturdaywhatprojectsareyouso, raspergers, projects, go, right, ideas, backburner, one, reason, another, ideas, planning, phase, even, working, someone, else, still, apply, mention, interest, relates, project, would, great, may, help, others]  \n",
       "2  [need, prepare, mentally, physically, long, time, go, casual, outing, relate, time, agree, go, people, given, lot, notice, even, casual, outing, seems, like, nbd, people, example, going, friends, house, dink, days, stop, thinking, going, wear, respond, ask, question, question, prepare, meet, friends, like, preparing, go, interview, even, get, started, prepare, actual, interview, feel, normal, new, subalso, run, someone, spontaneously, like, someone, visits, without, telling, see, someone, husband, forgets, tell, someone, coming, completely, different, person, like, know, socialize, awkward, even, hidden, bathroom, bedroom, times, told, husband, say, home, feel, horrible, like, fucked, forced, interact, feel, like, think, completely, different, person, time, prepare]  "
      ]
     },
     "execution_count": 11,
     "metadata": {},
     "output_type": "execute_result"
    }
   ],
   "source": [
    "df.head(3)"
   ]
  },
  {
   "cell_type": "code",
   "execution_count": 12,
   "id": "9e2ea678-786b-4bba-b91e-c8d71271e563",
   "metadata": {
    "tags": []
   },
   "outputs": [],
   "source": [
    "# import necessary module to \"lemmatize\" data\n",
    "from nltk.stem import WordNetLemmatizer"
   ]
  },
  {
   "cell_type": "code",
   "execution_count": 13,
   "id": "f434daa1-e311-4523-88c6-9e0cfa393229",
   "metadata": {},
   "outputs": [],
   "source": [
    "# instantiate lemmatizer\n",
    "lemmatizer = WordNetLemmatizer()"
   ]
  },
  {
   "cell_type": "code",
   "execution_count": 14,
   "id": "46372a68-d706-42db-abe9-a6968a93ce63",
   "metadata": {},
   "outputs": [],
   "source": [
    "# create new column 'lemma'\n",
    "df['lemma'] = ' '"
   ]
  },
  {
   "cell_type": "code",
   "execution_count": 15,
   "id": "76d271e3-6efa-4efd-98d8-29bc2ccb2661",
   "metadata": {},
   "outputs": [
    {
     "name": "stderr",
     "output_type": "stream",
     "text": [
      "/var/folders/1k/lmhy97td4h17yfgn7vlzp0ph0000gn/T/ipykernel_524/1159824920.py:3: SettingWithCopyWarning: \n",
      "A value is trying to be set on a copy of a slice from a DataFrame\n",
      "\n",
      "See the caveats in the documentation: https://pandas.pydata.org/pandas-docs/stable/user_guide/indexing.html#returning-a-view-versus-a-copy\n",
      "  df['lemma'][i]=' '.join([lemmatizer.lemmatize(word) for word in df['no_stop_words'][i]])\n"
     ]
    }
   ],
   "source": [
    "# lemmatise 'text_clean'\n",
    "for i in range(len(df['no_stop_words'])):\n",
    "    df['lemma'][i]=' '.join([lemmatizer.lemmatize(word) for word in df['no_stop_words'][i]])"
   ]
  },
  {
   "cell_type": "code",
   "execution_count": 16,
   "id": "aaae1b91-f27b-49cc-8c7f-e659d67ec1c5",
   "metadata": {
    "scrolled": true,
    "tags": []
   },
   "outputs": [
    {
     "data": {
      "text/html": [
       "<div>\n",
       "<style scoped>\n",
       "    .dataframe tbody tr th:only-of-type {\n",
       "        vertical-align: middle;\n",
       "    }\n",
       "\n",
       "    .dataframe tbody tr th {\n",
       "        vertical-align: top;\n",
       "    }\n",
       "\n",
       "    .dataframe thead th {\n",
       "        text-align: right;\n",
       "    }\n",
       "</style>\n",
       "<table border=\"1\" class=\"dataframe\">\n",
       "  <thead>\n",
       "    <tr style=\"text-align: right;\">\n",
       "      <th></th>\n",
       "      <th>text_feature</th>\n",
       "      <th>diagnosis</th>\n",
       "      <th>text_clean</th>\n",
       "      <th>no_stop_words</th>\n",
       "      <th>lemma</th>\n",
       "    </tr>\n",
       "  </thead>\n",
       "  <tbody>\n",
       "    <tr>\n",
       "      <th>0</th>\n",
       "      <td>How's your week going so far? Weekly post #264 [Here's last week's thread](https://old.reddit.com/r/aspergers/comments/11g6v1j/hows_your_week_going_so_far_weekly_post_263/)\\n\\nSuggestions are ALWAYS welcome on how to improve the threads I post at any time. After all, I do this because the community wants these threads to exist, and I take the time out of my day (every Thursday and Saturday) to post the weekly threads, to ensure the community gets what it feels it needs.\\n\\n**So, continuing with the theme... /r/aspergers, How is your week going so far?** :)</td>\n",
       "      <td>1</td>\n",
       "      <td>hows your week going so far weekly post 264 heres last weeks threadhttpsoldredditcomraspergerscomments11g6v1jhowsyourweekgoingsofarweeklypost263suggestions are always welcome on how to improve the threads i post at any time after all i do this because the community wants these threads to exist and i take the time out of my day every thursday and saturday to post the weekly threads to ensure the community gets what it feels it needsso continuing with the theme raspergers how is your week going so far</td>\n",
       "      <td>[hows, week, going, far, weekly, post, 264, heres, last, weeks, threadhttpsoldredditcomraspergerscomments11g6v1jhowsyourweekgoingsofarweeklypost263suggestions, always, welcome, improve, threads, post, time, community, wants, threads, exist, take, time, day, every, thursday, saturday, post, weekly, threads, ensure, community, gets, feels, needsso, continuing, theme, raspergers, week, going, far]</td>\n",
       "      <td>hows week going far weekly post 264 here last week threadhttpsoldredditcomraspergerscomments11g6v1jhowsyourweekgoingsofarweeklypost263suggestions always welcome improve thread post time community want thread exist take time day every thursday saturday post weekly thread ensure community get feel needsso continuing theme raspergers week going far</td>\n",
       "    </tr>\n",
       "    <tr>\n",
       "      <th>1</th>\n",
       "      <td>Solitude Project Saturday: What projects are you working on that pertain to your (special) interests? Weekly post #264 [Here's last week's Solitude Project Saturday](https://old.reddit.com/r/aspergers/comments/11i5qdt/solitude_project_saturday_what_projects_are_you/)\\n\\n**So, /r/aspergers, what projects do you have on the go right now? Any ideas on the backburner for one reason or another? Any ideas just in the planning phase?** Even if you are working on them with someone else, they still apply here. If you can mention the interest that you have that relates to the project, that would be great; it may help others.</td>\n",
       "      <td>1</td>\n",
       "      <td>solitude project saturday what projects are you working on that pertain to your special interests weekly post 264 heres last weeks solitude project saturdayhttpsoldredditcomraspergerscomments11i5qdtsolitudeprojectsaturdaywhatprojectsareyouso raspergers what projects do you have on the go right now any ideas on the backburner for one reason or another any ideas just in the planning phase even if you are working on them with someone else they still apply here if you can mention the interest that you have that relates to the project that would be great it may help others</td>\n",
       "      <td>[solitude, project, saturday, projects, working, pertain, special, interests, weekly, post, 264, heres, last, weeks, solitude, project, saturdayhttpsoldredditcomraspergerscomments11i5qdtsolitudeprojectsaturdaywhatprojectsareyouso, raspergers, projects, go, right, ideas, backburner, one, reason, another, ideas, planning, phase, even, working, someone, else, still, apply, mention, interest, relates, project, would, great, may, help, others]</td>\n",
       "      <td>solitude project saturday project working pertain special interest weekly post 264 here last week solitude project saturdayhttpsoldredditcomraspergerscomments11i5qdtsolitudeprojectsaturdaywhatprojectsareyouso raspergers project go right idea backburner one reason another idea planning phase even working someone else still apply mention interest relates project would great may help others</td>\n",
       "    </tr>\n",
       "    <tr>\n",
       "      <th>2</th>\n",
       "      <td>I need to prepare both mentally and physically for a long time just to go on a casual outing. Can you relate? The only time I agree to go out with people is when I have been given a lot of notice. Even if it’s just a casual outing that seems like nbd to most people. \\n\\nFor example I am going with my SO to his friends house for a dink in a few days and I can’t stop thinking about it. What am I going to wear? How will I respond if they ask me this question or that question? I prepare to meet friends like I’m preparing to go for an interview (don’t even get me started about how I prepare for an actual interview) I feel this is not normal. I’m new to this sub.\\n\\nAlso, if I run into someone spontaneously like someone visits without telling me or I see someone out and about or my husband forgets to tell me that someone’s coming by - I am a completely different person, like I don’t know how to socialize and I am so awkward. I’ve even hidden in the bathroom or bedroom a few times and told my husband to say I’m not home. I feel horrible and like I am so fucked up for this. If I’m forced to interact I feel like they think I’m a completely different person from when I have had time to prepare</td>\n",
       "      <td>1</td>\n",
       "      <td>i need to prepare both mentally and physically for a long time just to go on a casual outing can you relate the only time i agree to go out with people is when i have been given a lot of notice even if it s just a casual outing that seems like nbd to most people for example i am going with my so to his friends house for a dink in a few days and i can t stop thinking about it what am i going to wear how will i respond if they ask me this question or that question i prepare to meet friends like i m preparing to go for an interview don t even get me started about how i prepare for an actual interview i feel this is not normal i m new to this subalso if i run into someone spontaneously like someone visits without telling me or i see someone out and about or my husband forgets to tell me that someone s coming by  i am a completely different person like i don t know how to socialize and i am so awkward i ve even hidden in the bathroom or bedroom a few times and told my husband to say i m not home i feel horrible and like i am so fucked up for this if i m forced to interact i feel like they think i m a completely different person from when i have had time to prepare</td>\n",
       "      <td>[need, prepare, mentally, physically, long, time, go, casual, outing, relate, time, agree, go, people, given, lot, notice, even, casual, outing, seems, like, nbd, people, example, going, friends, house, dink, days, stop, thinking, going, wear, respond, ask, question, question, prepare, meet, friends, like, preparing, go, interview, even, get, started, prepare, actual, interview, feel, normal, new, subalso, run, someone, spontaneously, like, someone, visits, without, telling, see, someone, husband, forgets, tell, someone, coming, completely, different, person, like, know, socialize, awkward, even, hidden, bathroom, bedroom, times, told, husband, say, home, feel, horrible, like, fucked, forced, interact, feel, like, think, completely, different, person, time, prepare]</td>\n",
       "      <td>need prepare mentally physically long time go casual outing relate time agree go people given lot notice even casual outing seems like nbd people example going friend house dink day stop thinking going wear respond ask question question prepare meet friend like preparing go interview even get started prepare actual interview feel normal new subalso run someone spontaneously like someone visit without telling see someone husband forgets tell someone coming completely different person like know socialize awkward even hidden bathroom bedroom time told husband say home feel horrible like fucked forced interact feel like think completely different person time prepare</td>\n",
       "    </tr>\n",
       "  </tbody>\n",
       "</table>\n",
       "</div>"
      ],
      "text/plain": [
       "                                                                                                                                                                                                                                                                                                                                                                                                                                                                                                                                                                                                                                                                                                                                                                                                                                                                                                                                                                                                                                                                                                                                                                                                                                         text_feature  \\\n",
       "0                                                                                                                                                                                                                                                                                                                                                                                                                                                                                                                                                                                                                                                                  How's your week going so far? Weekly post #264 [Here's last week's thread](https://old.reddit.com/r/aspergers/comments/11g6v1j/hows_your_week_going_so_far_weekly_post_263/)\\n\\nSuggestions are ALWAYS welcome on how to improve the threads I post at any time. After all, I do this because the community wants these threads to exist, and I take the time out of my day (every Thursday and Saturday) to post the weekly threads, to ensure the community gets what it feels it needs.\\n\\n**So, continuing with the theme... /r/aspergers, How is your week going so far?** :)   \n",
       "1                                                                                                                                                                                                                                                                                                                                                                                                                                                                                                                                                                                                      Solitude Project Saturday: What projects are you working on that pertain to your (special) interests? Weekly post #264 [Here's last week's Solitude Project Saturday](https://old.reddit.com/r/aspergers/comments/11i5qdt/solitude_project_saturday_what_projects_are_you/)\\n\\n**So, /r/aspergers, what projects do you have on the go right now? Any ideas on the backburner for one reason or another? Any ideas just in the planning phase?** Even if you are working on them with someone else, they still apply here. If you can mention the interest that you have that relates to the project, that would be great; it may help others.   \n",
       "2  I need to prepare both mentally and physically for a long time just to go on a casual outing. Can you relate? The only time I agree to go out with people is when I have been given a lot of notice. Even if it’s just a casual outing that seems like nbd to most people. \\n\\nFor example I am going with my SO to his friends house for a dink in a few days and I can’t stop thinking about it. What am I going to wear? How will I respond if they ask me this question or that question? I prepare to meet friends like I’m preparing to go for an interview (don’t even get me started about how I prepare for an actual interview) I feel this is not normal. I’m new to this sub.\\n\\nAlso, if I run into someone spontaneously like someone visits without telling me or I see someone out and about or my husband forgets to tell me that someone’s coming by - I am a completely different person, like I don’t know how to socialize and I am so awkward. I’ve even hidden in the bathroom or bedroom a few times and told my husband to say I’m not home. I feel horrible and like I am so fucked up for this. If I’m forced to interact I feel like they think I’m a completely different person from when I have had time to prepare   \n",
       "\n",
       "   diagnosis  \\\n",
       "0          1   \n",
       "1          1   \n",
       "2          1   \n",
       "\n",
       "                                                                                                                                                                                                                                                                                                                                                                                                                                                                                                                                                                                                                                                                                                                                                                                                                                                                                                                                                                                                                                                                                                                                                                                                                  text_clean  \\\n",
       "0                                                                                                                                                                                                                                                                                                                                                                                                                                                                                                                                                                                                                                                                                                  hows your week going so far weekly post 264 heres last weeks threadhttpsoldredditcomraspergerscomments11g6v1jhowsyourweekgoingsofarweeklypost263suggestions are always welcome on how to improve the threads i post at any time after all i do this because the community wants these threads to exist and i take the time out of my day every thursday and saturday to post the weekly threads to ensure the community gets what it feels it needsso continuing with the theme raspergers how is your week going so far    \n",
       "1                                                                                                                                                                                                                                                                                                                                                                                                                                                                                                                                                                                                                             solitude project saturday what projects are you working on that pertain to your special interests weekly post 264 heres last weeks solitude project saturdayhttpsoldredditcomraspergerscomments11i5qdtsolitudeprojectsaturdaywhatprojectsareyouso raspergers what projects do you have on the go right now any ideas on the backburner for one reason or another any ideas just in the planning phase even if you are working on them with someone else they still apply here if you can mention the interest that you have that relates to the project that would be great it may help others   \n",
       "2  i need to prepare both mentally and physically for a long time just to go on a casual outing can you relate the only time i agree to go out with people is when i have been given a lot of notice even if it s just a casual outing that seems like nbd to most people for example i am going with my so to his friends house for a dink in a few days and i can t stop thinking about it what am i going to wear how will i respond if they ask me this question or that question i prepare to meet friends like i m preparing to go for an interview don t even get me started about how i prepare for an actual interview i feel this is not normal i m new to this subalso if i run into someone spontaneously like someone visits without telling me or i see someone out and about or my husband forgets to tell me that someone s coming by  i am a completely different person like i don t know how to socialize and i am so awkward i ve even hidden in the bathroom or bedroom a few times and told my husband to say i m not home i feel horrible and like i am so fucked up for this if i m forced to interact i feel like they think i m a completely different person from when i have had time to prepare   \n",
       "\n",
       "                                                                                                                                                                                                                                                                                                                                                                                                                                                                                                                                                                                                                                                                                                                                                                                              no_stop_words  \\\n",
       "0                                                                                                                                                                                                                                                                                                                                                                                             [hows, week, going, far, weekly, post, 264, heres, last, weeks, threadhttpsoldredditcomraspergerscomments11g6v1jhowsyourweekgoingsofarweeklypost263suggestions, always, welcome, improve, threads, post, time, community, wants, threads, exist, take, time, day, every, thursday, saturday, post, weekly, threads, ensure, community, gets, feels, needsso, continuing, theme, raspergers, week, going, far]   \n",
       "1                                                                                                                                                                                                                                                                                                                                                [solitude, project, saturday, projects, working, pertain, special, interests, weekly, post, 264, heres, last, weeks, solitude, project, saturdayhttpsoldredditcomraspergerscomments11i5qdtsolitudeprojectsaturdaywhatprojectsareyouso, raspergers, projects, go, right, ideas, backburner, one, reason, another, ideas, planning, phase, even, working, someone, else, still, apply, mention, interest, relates, project, would, great, may, help, others]   \n",
       "2  [need, prepare, mentally, physically, long, time, go, casual, outing, relate, time, agree, go, people, given, lot, notice, even, casual, outing, seems, like, nbd, people, example, going, friends, house, dink, days, stop, thinking, going, wear, respond, ask, question, question, prepare, meet, friends, like, preparing, go, interview, even, get, started, prepare, actual, interview, feel, normal, new, subalso, run, someone, spontaneously, like, someone, visits, without, telling, see, someone, husband, forgets, tell, someone, coming, completely, different, person, like, know, socialize, awkward, even, hidden, bathroom, bedroom, times, told, husband, say, home, feel, horrible, like, fucked, forced, interact, feel, like, think, completely, different, person, time, prepare]   \n",
       "\n",
       "                                                                                                                                                                                                                                                                                                                                                                                                                                                                                                                                                                                                                                                                                            lemma  \n",
       "0                                                                                                                                                                                                                                                                                                                                     hows week going far weekly post 264 here last week threadhttpsoldredditcomraspergerscomments11g6v1jhowsyourweekgoingsofarweeklypost263suggestions always welcome improve thread post time community want thread exist take time day every thursday saturday post weekly thread ensure community get feel needsso continuing theme raspergers week going far  \n",
       "1                                                                                                                                                                                                                                                                                          solitude project saturday project working pertain special interest weekly post 264 here last week solitude project saturdayhttpsoldredditcomraspergerscomments11i5qdtsolitudeprojectsaturdaywhatprojectsareyouso raspergers project go right idea backburner one reason another idea planning phase even working someone else still apply mention interest relates project would great may help others  \n",
       "2  need prepare mentally physically long time go casual outing relate time agree go people given lot notice even casual outing seems like nbd people example going friend house dink day stop thinking going wear respond ask question question prepare meet friend like preparing go interview even get started prepare actual interview feel normal new subalso run someone spontaneously like someone visit without telling see someone husband forgets tell someone coming completely different person like know socialize awkward even hidden bathroom bedroom time told husband say home feel horrible like fucked forced interact feel like think completely different person time prepare  "
      ]
     },
     "execution_count": 16,
     "metadata": {},
     "output_type": "execute_result"
    }
   ],
   "source": [
    "df.head(3)"
   ]
  },
  {
   "cell_type": "code",
   "execution_count": 23,
   "id": "f1339de3-f4fe-4c68-91c4-677b0a43f866",
   "metadata": {},
   "outputs": [],
   "source": [
    "# create a rule-based classification baseline model \n",
    "def word_exist(text, key_words):    \n",
    "    return any(i in text.lower() for i in key_words)\n",
    "\n",
    "def base_model(x):\n",
    "    if word_exist(x, ['aspergers','autism']):\n",
    "        return 1\n",
    "    elif word_exist(x, ['gifted','giftedness']):\n",
    "        return 0\n",
    "    else:\n",
    "        return random.randint(0, 1)\n",
    "\n",
    "y_test = df['diagnosis']\n",
    "y_pred = df['lemma'].apply(lambda x: base_model(x))"
   ]
  },
  {
   "cell_type": "code",
   "execution_count": 25,
   "id": "7d25100e-69fe-4e18-8c82-5574a6d265cf",
   "metadata": {},
   "outputs": [],
   "source": [
    "# import neccessary module\n",
    "from sklearn.metrics import confusion_matrix"
   ]
  },
  {
   "cell_type": "code",
   "execution_count": 26,
   "id": "8cb80d3a-8ad6-45d4-8f5c-b4dc969d9593",
   "metadata": {},
   "outputs": [
    {
     "name": "stdout",
     "output_type": "stream",
     "text": [
      "[[716 246]\n",
      " [354 599]]\n"
     ]
    }
   ],
   "source": [
    "# generate the confusion matrix for the baseline model\n",
    "tn, fp, fn, tp = confusion_matrix(y_test, y_pred).ravel() \n",
    "print(confusion_matrix(y_true= y_test, y_pred=y_pred))"
   ]
  },
  {
   "cell_type": "code",
   "execution_count": 27,
   "id": "71a0b659-6964-4da8-98c2-7449a9501964",
   "metadata": {},
   "outputs": [
    {
     "name": "stdout",
     "output_type": "stream",
     "text": [
      "True Negative value = 716 (Ground Truth: \"Gifted\", Prediction: \"Gifted\")\n",
      "False Positive value = 246 (Ground Truth: \"Gifted\", Prediction: \"Aspergers\")\n",
      "False Negative value = 354 (Ground Truth: \"Aspergers\", Prediction: \"Gifted\")\n",
      "True Positive value = 599 (Ground Truth: \"Aspergers\", Prediction: \"Aspergers\")\n"
     ]
    }
   ],
   "source": [
    "# predicted negative (gifted), actually negative (gifted) \n",
    "print (f'True Negative value = {tn} (Ground Truth: \"Gifted\", Prediction: \"Gifted\")')\n",
    "\n",
    "# predicted positive (aspergers), actually negative (gifted)\n",
    "print (f'False Positive value = {fp} (Ground Truth: \"Gifted\", Prediction: \"Aspergers\")') \n",
    "\n",
    "# predicted negative (gifted), actually positive (aspergers) \n",
    "print (f'False Negative value = {fn} (Ground Truth: \"Aspergers\", Prediction: \"Gifted\")') \n",
    "\n",
    "# predicted positive (aspergers), actually positive (aspergers)\n",
    "print (f'True Positive value = {tp} (Ground Truth: \"Aspergers\", Prediction: \"Aspergers\")') "
   ]
  },
  {
   "cell_type": "code",
   "execution_count": 31,
   "id": "c84c6f0a-44f9-4ba2-b7d9-46531596073c",
   "metadata": {},
   "outputs": [],
   "source": [
    "# import the neccessary function from the sklearn module\n",
    "from sklearn.metrics import classification_report\n",
    "from sklearn.metrics import accuracy_score, recall_score, precision_score, f1_score, roc_auc_score, plot_roc_curve, roc_curve"
   ]
  },
  {
   "cell_type": "code",
   "execution_count": 32,
   "id": "e59bae41-f99f-496f-8168-330db36c1df5",
   "metadata": {},
   "outputs": [
    {
     "name": "stdout",
     "output_type": "stream",
     "text": [
      "              precision    recall  f1-score   support\n",
      "\n",
      "           0       0.67      0.74      0.70       962\n",
      "           1       0.71      0.63      0.67       953\n",
      "\n",
      "    accuracy                           0.69      1915\n",
      "   macro avg       0.69      0.69      0.69      1915\n",
      "weighted avg       0.69      0.69      0.69      1915\n",
      "\n"
     ]
    }
   ],
   "source": [
    "# evaluate the performance of the baseline model using sklearn\n",
    "print(classification_report(y_test, y_pred))"
   ]
  },
  {
   "cell_type": "code",
   "execution_count": 34,
   "id": "200d6fd9-4d36-4026-ad0e-9b40017e2a44",
   "metadata": {},
   "outputs": [
    {
     "name": "stdout",
     "output_type": "stream",
     "text": [
      "From sklearn.metrics, the accuracy of model is 0.6866840731070496.\n"
     ]
    }
   ],
   "source": [
    "# accuracy score from sklearn.metrics\n",
    "print(f'From sklearn.metrics, the accuracy of model is {accuracy_score(y_test, y_pred)}.')"
   ]
  },
  {
   "cell_type": "code",
   "execution_count": 35,
   "id": "cff6dd9f-b80b-4b89-83eb-54cc2f34a221",
   "metadata": {},
   "outputs": [
    {
     "name": "stdout",
     "output_type": "stream",
     "text": [
      "From sklearn.metrics, the precision of the model is 0.7088757396449704.\n"
     ]
    }
   ],
   "source": [
    "# precision score from sklearn.metrics\n",
    "print(f'From sklearn.metrics, the precision of the model is {precision_score(y_test, y_pred)}.')"
   ]
  },
  {
   "cell_type": "code",
   "execution_count": 36,
   "id": "16d32b3b-f74e-4f10-b85a-adfd6be07b37",
   "metadata": {},
   "outputs": [
    {
     "name": "stdout",
     "output_type": "stream",
     "text": [
      "From sklearn.metrics, the sensitivity(recall) of the model is 0.6285414480587618.\n"
     ]
    }
   ],
   "source": [
    "# sensitivity(recall) score from sklearn metrics\n",
    "print(f'From sklearn.metrics, the sensitivity(recall) of the model is {recall_score(y_test, y_pred)}.')"
   ]
  },
  {
   "cell_type": "code",
   "execution_count": 37,
   "id": "ef28723d-8dd0-41db-a2ea-8667d5a1771b",
   "metadata": {},
   "outputs": [
    {
     "name": "stdout",
     "output_type": "stream",
     "text": [
      "From sklearn.metrics, the FI score of the model is 0.6662958843159066.\n"
     ]
    }
   ],
   "source": [
    "# F1 score from sklearn metrics\n",
    "print(f\"From sklearn.metrics, the FI score of the model is {f1_score(y_test, y_pred)}.\")"
   ]
  },
  {
   "cell_type": "code",
   "execution_count": 39,
   "id": "8eef1820-e7f1-45b5-8cd8-c23f5831cea3",
   "metadata": {},
   "outputs": [
    {
     "name": "stdout",
     "output_type": "stream",
     "text": [
      "The area under curve is 0.6864120961707529.\n"
     ]
    }
   ],
   "source": [
    "# area under curve from sklearn metrics for baseline model\n",
    "print(f\"The area under curve is {roc_auc_score(y_test, y_pred)}.\")"
   ]
  }
 ],
 "metadata": {
  "kernelspec": {
   "display_name": "dsi-sg",
   "language": "python",
   "name": "dsi-sg"
  },
  "language_info": {
   "codemirror_mode": {
    "name": "ipython",
    "version": 3
   },
   "file_extension": ".py",
   "mimetype": "text/x-python",
   "name": "python",
   "nbconvert_exporter": "python",
   "pygments_lexer": "ipython3",
   "version": "3.9.13"
  }
 },
 "nbformat": 4,
 "nbformat_minor": 5
}
